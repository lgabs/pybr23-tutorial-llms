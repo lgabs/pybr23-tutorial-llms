{
 "cells": [
  {
   "cell_type": "markdown",
   "id": "3473a89e",
   "metadata": {},
   "source": [
    "# Criando Chatbots para FAQS com LLMs e Embeddings usando Langchain\n",
    "\n",
    "[_Luan Gabriel Silva Fernandes_](https://www.linkedin.com/in/lgabs/), _Python Brasil 2023_.\n",
    "\n",
    "# Índice\n",
    "1. [Introdução](#introduction)\n",
    "2. [Motivação](#motivation)\n",
    "    1. [Como ensinar conhecimento ao GPT?](#how-to-teach)\n",
    "    2. [Overview do Chatbot](#overview)\n",
    "3. [Search](#search-approach)\n",
    "    1. [Como encontrar documentos relevantes para a pergunta?](#how-to-find) \n",
    "    2. [Tokenization](#tokens)\n",
    "    3. [Bag of Words (BOW) e Vocabulary](#bow)\n",
    "    4. [Vetorizando frases](#vector-phrases)\n",
    "    5. [Distância entre vetores](#vector-dist)\n",
    "    6. [Embeddings](#embeds)\n",
    "    7. [Vector Stores](#chroma)\n",
    "3. [Ask](#ask)\n",
    "    1. [Prompt Template](#prompt-template)\n",
    "    2. [Chains](#chains)\n",
    "    3. [Ask GPT!](#ask-gpt)\n",
    "        1. [Cancelamento de Viagem](#cancelations)\n",
    "        2. [Emergências](#emergency)\n",
    "        3. [Viajando com crianças](#child)\n",
    "        4. [Exemplos negativos](#negatives)\n",
    "4. [Referências](#refs)"
   ]
  },
  {
   "cell_type": "markdown",
   "id": "6f63e20c-8b85-444e-a55f-e1bc1180dde1",
   "metadata": {},
   "source": [
    "## 1. Introdução <a name=\"introduction\"></a>\n",
    "\n",
    "Como ensinar o chatGPT a responder sobre assuntos que ele não conhece? Se você já usou algum LLM (Large Language Models) como o chatGPT, viu que são ótimos em responder perguntas, mas só se forem tópicos relativamente abundantes e públicos na internet. Neste tutorial, vamos entender na prática como criar soluções com LLM capazes de responder tópicos muito específicos, alimentando a IA Generativa com mais informações, como dúvidas comuns da sua empresa (FAQs) ou eventos recentes que não estão no período de treinamento do LLM. \n",
    "\n",
    "Para isso, vamos usar Embeddings e um framework bem ativo na comunidade, o [Langchain](https://github.com/langchain-ai/langchain), e vamos focar no uso do GPT como LLM (embora vários outros possam ser usados para o mesmo propósito) para a tarefa de responder perguntas frequentes de uma empresa como a [Buser](https://www.buser.com.br/sobre).\n",
    "\n",
    "Para começar, siga as instruções do `README.md` para garantir as dependências (de preferência em um ambiente virtual)."
   ]
  },
  {
   "cell_type": "markdown",
   "id": "894980bc-8957-4721-b0ae-4f43e4da04a7",
   "metadata": {},
   "source": [
    "## 2. Motivação <a name=\"motivation\"></a>\n",
    "\n",
    "Como o GPT se comporta com perguntas sobre esses temas? Por exemplo:\n",
    "- As eleições presidenciais no Brasil?\n",
    "- Perguntas Frequentes (FAQs) de uma empresa\n",
    "- Informações de conversas anteriores"
   ]
  },
  {
   "cell_type": "markdown",
   "id": "2ac5af7f",
   "metadata": {},
   "source": [
    "<div>\n",
    "<img src=\"images/01_eleicoes2022.png\" width=\"600\"/>\n",
    "</div>\n",
    "\n",
    "<div>\n",
    "<img src=\"images/02_buser.png\" width=\"600\"/>\n",
    "</div>"
   ]
  },
  {
   "cell_type": "markdown",
   "id": "891d984d",
   "metadata": {},
   "source": [
    "### Overview  do Chatbot <a name=\"overview\"></a>"
   ]
  },
  {
   "cell_type": "markdown",
   "id": "320e166a",
   "metadata": {},
   "source": [
    "<div>\n",
    "<img src=\"images/03_overview.jpeg\" width=\"900\"/>\n",
    "</div>"
   ]
  },
  {
   "cell_type": "markdown",
   "id": "d5150653",
   "metadata": {},
   "source": [
    "### Como ensinar conhecimento ao GPT? <a name=\"how-to-teach\"></a>\n",
    "\n",
    "É bem claro que falta __contexto__ para o GPT dar uma resposta boa e factual (muitas vezes ele pode \"alucinar\" e criar respostas irreais na tentativa de responder algo). O GPT (assim como outros LLMs) pode aprender mais conhecimento por duas vias:\n",
    "\n",
    "1. Atualizando os pesos/parâmetros da sua arquitetura (treino e fine-tuning).\n",
    "2. Inserindo contexto diretamente na pergunta (prompt).\n",
    "\n",
    "Ao tentar resolver o problema, é bastante natural pensar logo na primeira alternativa. Mas ela só é recomendada pela OpenAI para tarefas bem específicas e estilos; no caso da tarefa de dar uma resposta factual, será mais difícil para o modelo lembrar com precisão os assuntos ensinados, ainda mais comparado ao tanto de conhecimento que ele tem treinado. __Funciona como uma memória de longo prazo para uma prova: você não tem tanta assertividade ao recordar assuntos na hora da prova__.\n",
    "\n",
    "No segundo caso, inserir contexto no prompt é como uma __\"memória de curto prazo\": é como fazer uma prova \"colando\" do livro, pois o modelo tem acesso claro ao contexto necessário para responder especificamente sua pergunta__. \n",
    "\n",
    "Porém, os modelos oferecidos pela OpenAI têm limites de contexto (prompt + completion):\n",
    "\n",
    "| Model           | Maximum text length       |\n",
    "|-----------------|---------------------------|\n",
    "| `gpt-3.5-turbo` | 4,096 tokens (~5 pages)   |\n",
    "| `gpt-3.5-turbo-16k` | 16,385 tokens (~20 pages)   |\t\n",
    "| `gpt-4`         | 8,192 tokens (~10 pages)  |\n",
    "| `gpt-4-32k`     | 32,768 tokens (~40 pages) |\n",
    "\n",
    "Como inserir o contexto necessário no input do modelo? Essa é a estratégia chamada Search-Ask, onde seguimos duas ideias básicas: \n",
    "\n",
    "1. __Search__: buscar em uma base de conhecimento por seções de texto (documents) que sejam úteis para responder a pergunta\n",
    "2. __Ask__: inserir os documentos relevantes na pergunta original e fazer a pergunta ao GPT.\n",
    "\n",
    "Na prática, isso equivale a construir um bom prompt, ou seja, é uma forma de praticar __Prompt Engineering__. \n",
    "\n",
    "O primeiro passo é aprender sobre a etapa `Search`, que envolve entender mais sobre: como transformar texto em números; o que são tokens e o que são embeddings.\n",
    "\n",
    "\n",
    "<font size=\"2\">_obs: a resposta da 1ª pergunta, sobre eleições, pode ser feita com GPT-4 e plugin para o Bing (que no fim das contas acaba usando a mesma ideia de inserir contexto na pergunta para o GPT)_. A resposta da 3ª também usa a mesma ideia, pois na interface do chatGPT ele está inserindo as conversas anteriores como contexto para o GPT.\n",
    "</font>"
   ]
  },
  {
   "cell_type": "markdown",
   "id": "8ffcba78",
   "metadata": {},
   "source": [
    "## Search <a name=\"search-approach\"></a>"
   ]
  },
  {
   "cell_type": "markdown",
   "id": "8b41021d",
   "metadata": {},
   "source": [
    "### Como encontrar documentos relevantes para a pergunta? <a name=\"how-to-find\"></a>\n",
    "\n",
    "A fase de busca é muito importante para o nosso problema, pois caso coloquemos documentos com pouca relação com a pergunta no prompt para o GPT, o GPT não irá conseguir produzir uma boa resposta. Existem diversas estratégias para fazer essa busca de documentos, mas a ideia básica por trás é que queremos __buscar documentos que tenham similaridade contextual com a pergunta__ .\n",
    "\n",
    "Uma forma clássica de comparar textos entre si é usar __Embeddings__, que \"nada mais\" são representações númericas de palavras ou frases, tipicamente representações vetoriais em um espaço vetorial, de tal forma que vetores próximos entre si (matematicamente) implicam frases ou palavras similares, ou seja, a distância entre vetores mede o grau de similaridade entre eles. \n",
    "\n",
    "Antes de prosseguir, vamos entender mais de perto como os embeddings funcionam e, para entendê-los, precisamos primeiro aprender sobre __Tokenizers__ e __Bag of Words__. "
   ]
  },
  {
   "cell_type": "markdown",
   "id": "3c53cf4d",
   "metadata": {},
   "source": [
    "### Tokenization <a name=\"tokens\"></a>\n",
    "\n",
    "Tokenization é um passo crucial em muitos processos de Processamento de Linguagem Natural (NLP), e aqui não é diferente. É a tarefa de segmentar texto em partes menores, conhecidas como __tokens__, que podem ser palavras, subpalavras ou caracteres. Isso facilita o tratamento do texto por modelos e algoritmos de NLP, __afinal modelos não sabem ler, só sabem trabalhar com números__. \n",
    "\n",
    "Vamos explorar o processo de tokenização em um nível básico, para aquecer."
   ]
  },
  {
   "cell_type": "code",
   "execution_count": 1,
   "id": "abd04386",
   "metadata": {},
   "outputs": [],
   "source": [
    "def simple_whitespace_tokenizer(text: str) -> list:\n",
    "    \"\"\"\n",
    "    Tokeniza o texto usando espaços em branco como delimitadores.\n",
    "    \"\"\"\n",
    "    return text.split()"
   ]
  },
  {
   "cell_type": "code",
   "execution_count": 2,
   "id": "868813d2",
   "metadata": {},
   "outputs": [
    {
     "name": "stdout",
     "output_type": "stream",
     "text": [
      "['Eu', 'adoro', 'participar', 'da', 'Python', 'Brasil.', 'Ano', 'passado', 'fui', 'na', 'Python', 'Brasil', 'em', 'Manaus', 'e', 'agora', 'estou', 'na', 'edição', '2023,', 'em', 'Caxias', 'do', 'Sul']\n"
     ]
    }
   ],
   "source": [
    "text = \"\"\" \n",
    "Eu adoro participar da Python Brasil. \n",
    "Ano passado fui na Python Brasil em Manaus e agora estou na edição 2023, em Caxias do Sul\n",
    "\"\"\"\n",
    "\n",
    "tokens = simple_whitespace_tokenizer(text)\n",
    "print(tokens)"
   ]
  },
  {
   "cell_type": "markdown",
   "id": "e049fe53",
   "metadata": {},
   "source": [
    "Podemos tokenizar com diferentes estratégias:"
   ]
  },
  {
   "cell_type": "code",
   "execution_count": 3,
   "id": "1b407978",
   "metadata": {},
   "outputs": [
    {
     "name": "stdout",
     "output_type": "stream",
     "text": [
      "['Eu', 'adoro', 'participar', 'da', 'Python', 'Brasil', '.', 'Ano', 'passado', 'fui', 'na', 'Python', 'Brasil', 'em', 'Manaus', 'e', 'agora', 'estou', 'na', 'edição', '2023', ',', 'em', 'Caxias', 'do', 'Sul']\n"
     ]
    }
   ],
   "source": [
    "import string\n",
    "\n",
    "def punctuation_based_tokenizer(text: str) -> list:\n",
    "    \"\"\"\n",
    "    Tokeniza o texto usando espaços em branco e pontuação como delimitadores.\n",
    "    \"\"\"\n",
    "    for punct in string.punctuation:\n",
    "        text = text.replace(punct, f' {punct} ')\n",
    "    return text.split()\n",
    "\n",
    "tokens = punctuation_based_tokenizer(text)\n",
    "print(tokens)"
   ]
  },
  {
   "cell_type": "markdown",
   "id": "cd535f05",
   "metadata": {},
   "source": [
    "Usando regex:"
   ]
  },
  {
   "cell_type": "code",
   "execution_count": 4,
   "id": "c2d3f01c",
   "metadata": {},
   "outputs": [
    {
     "name": "stdout",
     "output_type": "stream",
     "text": [
      "['Eu', 'adoro', 'participar', 'da', 'Python', 'Brasil', 'Ano', 'passado', 'fui', 'na', 'Python', 'Brasil', 'em', 'Manaus', 'e', 'agora', 'estou', 'na', 'edição', '2023', 'em', 'Caxias', 'do', 'Sul']\n"
     ]
    }
   ],
   "source": [
    "import re\n",
    "\n",
    "def regex_tokenizer(text: str) -> list:\n",
    "    \"\"\"\n",
    "    Tokeniza o texto usando expressões regulares para identificar padrões de tokens.\n",
    "    (para ver melhor regex na prática: https://regex101.com/)\n",
    "    \"\"\"\n",
    "    return re.findall(r'\\b\\w+\\b', text)\n",
    "\n",
    "\n",
    "tokens = regex_tokenizer(text)\n",
    "print(tokens)"
   ]
  },
  {
   "cell_type": "markdown",
   "id": "f1bb4d5e",
   "metadata": {},
   "source": [
    "Podemos remover termos muito frequentes mas que não adicionam tanto contexto, chamadas _stopwords_:"
   ]
  },
  {
   "cell_type": "code",
   "execution_count": 5,
   "id": "601a20ff",
   "metadata": {},
   "outputs": [
    {
     "name": "stdout",
     "output_type": "stream",
     "text": [
      "['adoro', 'participar', 'python', 'brasil', 'ano', 'passado', 'python', 'brasil', 'manaus', 'agora', 'edição', '2023', 'caxias', 'sul']\n"
     ]
    },
    {
     "name": "stderr",
     "output_type": "stream",
     "text": [
      "[nltk_data] Downloading package stopwords to\n",
      "[nltk_data]     /Users/luanfernandes/nltk_data...\n",
      "[nltk_data]   Package stopwords is already up-to-date!\n"
     ]
    }
   ],
   "source": [
    "import re\n",
    "import nltk\n",
    "from nltk.corpus import stopwords\n",
    "\n",
    "# Baixe a lista de stopwords (vai levar alguns segundos)\n",
    "nltk.download('stopwords')\n",
    "\n",
    "# Obtenha a lista de stopwords para o português\n",
    "stopwords_pt = set(stopwords.words('portuguese'))\n",
    "\n",
    "def regex_no_stopwords_tokenizer(text: str) -> list:\n",
    "    \"\"\"\n",
    "    Tokeniza o texto usando regex, removendo pontuação e stopwords.\n",
    "    \n",
    "    Args:\n",
    "    text (str): O texto a ser tokenizado.\n",
    "    \n",
    "    Returns:\n",
    "    list: Uma lista de tokens sem stopwords.\n",
    "    \"\"\"\n",
    "    # Remove pontuação e divide o texto em palavras\n",
    "    tokens = re.findall(r'\\b\\w+\\b', text.lower())\n",
    "    # Remove stopwords\n",
    "    filtered_tokens = [word for word in tokens if word not in stopwords_pt]\n",
    "    return filtered_tokens\n",
    "\n",
    "tokens = regex_no_stopwords_tokenizer(text)\n",
    "print(tokens)"
   ]
  },
  {
   "cell_type": "markdown",
   "id": "f8924939",
   "metadata": {},
   "source": [
    "Legal, temos uma primeira forma de transformar textos (linguagem) em vetores! Mas, se para cada frase fizemos uma lista como essas acima, será difícil comparar frases entre si, devido a diferença de tamanho, quantidade de palavras novas que irão surgir...precisamos de alguma abordagem mais robusta para atacar esse problema."
   ]
  },
  {
   "cell_type": "markdown",
   "id": "8335e2da",
   "metadata": {},
   "source": [
    "### Bag of Words (BOW) e Vocabulary: <a name=\"bow\"></a>\n",
    "\n",
    "_Bag of Words (BOW)_ é um nome bonito para uma tradução literal bem clara: _\"saco de palavras\"_. É uma forma de __converter texto em números de forma mais padronizada__, e que permite comparar melhor frases e até alimentar modelos de aprendizado de máquina. \n",
    "\n",
    "A ideia por trás é simples: imagine que possamos construir um vocabulário de $N$ tokens que represente bem qualquer linguagem que possa ser escrita., na esperança de representar bem a linguagem. Com isso, podemos montar um __vocabulário para a linguagem, representado por uma lista de palavras/tokens únicos__. Então, para qualquer frase, poderemos criar um vetor de tamanho $N$ (padronizado), onde __cada posição representa uma palavra/token do vocabulário__, e então para cada posição podemos colocar o número de vezes que aquele token apareceu na nossa frase.\n",
    "\n",
    "\n",
    "Para montar o vocabulário, precisamos de uma boa quantidade de textos que representem a linguagem, sendo o mais diverso possível. O vocabulário é simplesmente um conjunto de todas as palavras ou tokens únicos presentes no conjunto de textos, geralmente chamado de _corpus_ ou _corpora_."
   ]
  },
  {
   "cell_type": "code",
   "execution_count": 6,
   "id": "fadb3c6f",
   "metadata": {},
   "outputs": [],
   "source": [
    "def build_vocabulary(texts: list) -> dict:\n",
    "    \"\"\"\n",
    "    Constrói um vocabulário a partir de uma lista de textos.\n",
    "    \"\"\"\n",
    "    vocabulary = {}\n",
    "    for text in texts:\n",
    "        for word in text.split():\n",
    "            vocabulary[word] = vocabulary.get(word, 0) + 1\n",
    "    return vocabulary"
   ]
  },
  {
   "cell_type": "markdown",
   "id": "263b5316",
   "metadata": {},
   "source": [
    "Vamos usar um exemplos simples relacionados à Python Brasil. Note a frequência de termos meio irrelevantes para contexto, como preposições, advérbios e artigos. Em processamentos mais avançados de texto, é comum remover esses termos muito frequentes, pois eles deixam o vocabulário muito maior mas sem adicionar informação relevante ao contexto.\n",
    "\n",
    "<font size=\"2\">_obs: sim, eu criei esses exemplos dando um exemplo ao GPT e pedindo vários outros rs._\n",
    "</font>"
   ]
  },
  {
   "cell_type": "code",
   "execution_count": 7,
   "id": "d1130f01",
   "metadata": {},
   "outputs": [
    {
     "name": "stdout",
     "output_type": "stream",
     "text": [
      "{'2023,': 1,\n",
      " 'A': 9,\n",
      " 'Ano': 1,\n",
      " 'As': 1,\n",
      " 'Brasil': 16,\n",
      " 'Brasil.': 4,\n",
      " 'Caxias': 1,\n",
      " 'Conheci': 1,\n",
      " 'Estou': 3,\n",
      " 'Eu': 1,\n",
      " 'Manaus': 1,\n",
      " 'Os': 2,\n",
      " 'Python': 21,\n",
      " 'Python.': 2,\n",
      " 'Sul.': 1,\n",
      " 'a': 1,\n",
      " 'acolhedora.': 1,\n",
      " 'adoro': 1,\n",
      " 'agora': 1,\n",
      " 'ano': 1,\n",
      " 'ano.': 2,\n",
      " 'ansioso': 1,\n",
      " 'apaixonadas': 1,\n",
      " 'aprender': 1,\n",
      " 'aprendizado': 1,\n",
      " 'apresentar': 1,\n",
      " 'as': 1,\n",
      " 'chance': 1,\n",
      " 'colegas': 1,\n",
      " 'com': 1,\n",
      " 'comunidade': 2,\n",
      " 'conhecer': 1,\n",
      " 'contando': 1,\n",
      " 'da': 6,\n",
      " 'de': 5,\n",
      " 'deixam': 1,\n",
      " 'desenvolvedores': 1,\n",
      " 'deste': 1,\n",
      " 'dias': 1,\n",
      " 'discussões': 1,\n",
      " 'do': 1,\n",
      " 'dos': 1,\n",
      " 'e': 2,\n",
      " 'edição': 1,\n",
      " 'elucidativos.': 1,\n",
      " 'em': 3,\n",
      " 'empolgado': 1,\n",
      " 'empregos': 1,\n",
      " 'encontrar': 1,\n",
      " 'encontro': 1,\n",
      " 'este': 2,\n",
      " 'estou': 1,\n",
      " 'está': 1,\n",
      " 'evento': 1,\n",
      " 'experiência': 1,\n",
      " 'feira': 1,\n",
      " 'fui': 1,\n",
      " 'imersiva.': 1,\n",
      " 'imperdível.': 1,\n",
      " 'incrível': 1,\n",
      " 'inspirado': 1,\n",
      " 'inspiradores.': 1,\n",
      " 'interação': 1,\n",
      " 'interessantes.': 1,\n",
      " 'keynotes': 1,\n",
      " 'lugar': 1,\n",
      " 'líderes': 1,\n",
      " 'me': 1,\n",
      " 'meu': 1,\n",
      " 'meus': 1,\n",
      " 'muito': 4,\n",
      " 'muitos': 1,\n",
      " 'na': 10,\n",
      " 'novas': 3,\n",
      " 'novidades': 1,\n",
      " 'novos': 1,\n",
      " 'o': 2,\n",
      " 'onde': 1,\n",
      " 'oportunidade': 1,\n",
      " 'oportunidades.': 1,\n",
      " 'os': 3,\n",
      " 'outros': 1,\n",
      " 'palestrantes': 2,\n",
      " 'para': 7,\n",
      " 'participar': 1,\n",
      " 'passado': 1,\n",
      " 'perfeito': 1,\n",
      " 'perspectivas': 1,\n",
      " 'pessoas': 1,\n",
      " 'por': 1,\n",
      " 'profissão': 1,\n",
      " 'programação': 1,\n",
      " 'programação.': 1,\n",
      " 'projeto': 1,\n",
      " 'projetos.Os': 1,\n",
      " 'renome.': 1,\n",
      " 'sempre': 8,\n",
      " 'são': 2,\n",
      " 'tantas': 1,\n",
      " 'traz': 1,\n",
      " 'trazem': 1,\n",
      " 'tutoriais': 1,\n",
      " 'técnicas': 1,\n",
      " 'uma': 3,\n",
      " 'valiosa.': 1,\n",
      " 'ver': 1,\n",
      " 'workshops': 1,\n",
      " 'É': 1,\n",
      " 'é': 7,\n",
      " 'ótima': 2,\n",
      " 'últimas': 1}\n"
     ]
    }
   ],
   "source": [
    "from pprint import pprint\n",
    "\n",
    "corpus_pybr23 = [\n",
    "    \"Eu adoro participar da Python Brasil.\",\n",
    "    \"Ano passado fui na Python Brasil em Manaus e agora estou na edição 2023, em Caxias do Sul.\",\n",
    "    \"Estou ansioso para os workshops na Python Brasil este ano.\",\n",
    "    \"A comunidade na Python Brasil é sempre muito acolhedora.\",\n",
    "    \"A Python Brasil é o evento perfeito para aprender novas técnicas de programação.\",\n",
    "    \"É incrível ver tantas pessoas apaixonadas por Python na Python Brasil.\",\n",
    "    \"Os palestrantes da Python Brasil sempre trazem perspectivas novas e interessantes.\",\n",
    "    \"Conheci muitos dos meus colegas de profissão na Python Brasil.\",\n",
    "    \"A programação da Python Brasil deste ano está imperdível.\",\n",
    "    \"As discussões na Python Brasil sempre me deixam inspirado para novos projetos.\"\n",
    "    \"Os tutoriais na Python Brasil são sempre muito elucidativos.\",\n",
    "    \"A Python Brasil é uma ótima oportunidade para conhecer os líderes da comunidade Python.\",\n",
    "    \"Estou contando os dias para a Python Brasil.\",\n",
    "    \"A Python Brasil é o lugar onde sempre encontro as últimas novidades em Python.\",\n",
    "    \"A interação com outros desenvolvedores na Python Brasil é sempre muito valiosa.\",\n",
    "    \"Os keynotes da Python Brasil são sempre muito inspiradores.\",\n",
    "    \"A Python Brasil sempre traz palestrantes de renome.\",\n",
    "    \"Estou empolgado para apresentar meu projeto na Python Brasil este ano.\",\n",
    "    \"A Python Brasil é uma experiência de aprendizado imersiva.\",\n",
    "    \"A feira de empregos da Python Brasil é uma ótima chance para encontrar novas oportunidades.\"\n",
    "]\n",
    "\n",
    "vocabulary = build_vocabulary(corpus_pybr23)\n",
    "pprint(vocabulary)"
   ]
  },
  {
   "cell_type": "markdown",
   "id": "2a2f2fea",
   "metadata": {},
   "source": [
    "## Vetorizando frases <a name=\"vector-phrases\"></a>\n",
    "\n",
    "Uma vez que criamos um vocabulário, podemos \"vetorizar\" frases: cada frase será representada por um vetor do mesmo tamanho do vocabulário, onde cada entrada do vetor será o número de vezes que o token apareceu na frase. Para manter um mesmo padrão, é preciso usar o mesmo tokenizador tanto na construção do vocubulário como na hora de vetorizar uma frase. Por exemplo: não faz sentido considerar pontuações no vocabulário e não considerá-las na hora de vetorizar uma frase, certo?\n",
    "\n",
    "Vamos atualizar nossa construção de vocabulário:"
   ]
  },
  {
   "cell_type": "code",
   "execution_count": 8,
   "id": "0b0daf49",
   "metadata": {},
   "outputs": [
    {
     "name": "stdout",
     "output_type": "stream",
     "text": [
      "{'2023': 1,\n",
      " 'A': 9,\n",
      " 'Ano': 1,\n",
      " 'As': 1,\n",
      " 'Brasil': 20,\n",
      " 'Caxias': 1,\n",
      " 'Conheci': 1,\n",
      " 'Estou': 3,\n",
      " 'Eu': 1,\n",
      " 'Manaus': 1,\n",
      " 'Os': 3,\n",
      " 'Python': 23,\n",
      " 'Sul': 1,\n",
      " 'a': 1,\n",
      " 'acolhedora': 1,\n",
      " 'adoro': 1,\n",
      " 'agora': 1,\n",
      " 'ano': 3,\n",
      " 'ansioso': 1,\n",
      " 'apaixonadas': 1,\n",
      " 'aprender': 1,\n",
      " 'aprendizado': 1,\n",
      " 'apresentar': 1,\n",
      " 'as': 1,\n",
      " 'chance': 1,\n",
      " 'colegas': 1,\n",
      " 'com': 1,\n",
      " 'comunidade': 2,\n",
      " 'conhecer': 1,\n",
      " 'contando': 1,\n",
      " 'da': 6,\n",
      " 'de': 5,\n",
      " 'deixam': 1,\n",
      " 'desenvolvedores': 1,\n",
      " 'deste': 1,\n",
      " 'dias': 1,\n",
      " 'discussões': 1,\n",
      " 'do': 1,\n",
      " 'dos': 1,\n",
      " 'e': 2,\n",
      " 'edição': 1,\n",
      " 'elucidativos': 1,\n",
      " 'em': 3,\n",
      " 'empolgado': 1,\n",
      " 'empregos': 1,\n",
      " 'encontrar': 1,\n",
      " 'encontro': 1,\n",
      " 'este': 2,\n",
      " 'estou': 1,\n",
      " 'está': 1,\n",
      " 'evento': 1,\n",
      " 'experiência': 1,\n",
      " 'feira': 1,\n",
      " 'fui': 1,\n",
      " 'imersiva': 1,\n",
      " 'imperdível': 1,\n",
      " 'incrível': 1,\n",
      " 'inspirado': 1,\n",
      " 'inspiradores': 1,\n",
      " 'interação': 1,\n",
      " 'interessantes': 1,\n",
      " 'keynotes': 1,\n",
      " 'lugar': 1,\n",
      " 'líderes': 1,\n",
      " 'me': 1,\n",
      " 'meu': 1,\n",
      " 'meus': 1,\n",
      " 'muito': 4,\n",
      " 'muitos': 1,\n",
      " 'na': 10,\n",
      " 'novas': 3,\n",
      " 'novidades': 1,\n",
      " 'novos': 1,\n",
      " 'o': 2,\n",
      " 'onde': 1,\n",
      " 'oportunidade': 1,\n",
      " 'oportunidades': 1,\n",
      " 'os': 3,\n",
      " 'outros': 1,\n",
      " 'palestrantes': 2,\n",
      " 'para': 7,\n",
      " 'participar': 1,\n",
      " 'passado': 1,\n",
      " 'perfeito': 1,\n",
      " 'perspectivas': 1,\n",
      " 'pessoas': 1,\n",
      " 'por': 1,\n",
      " 'profissão': 1,\n",
      " 'programação': 2,\n",
      " 'projeto': 1,\n",
      " 'projetos': 1,\n",
      " 'renome': 1,\n",
      " 'sempre': 8,\n",
      " 'são': 2,\n",
      " 'tantas': 1,\n",
      " 'traz': 1,\n",
      " 'trazem': 1,\n",
      " 'tutoriais': 1,\n",
      " 'técnicas': 1,\n",
      " 'uma': 3,\n",
      " 'valiosa': 1,\n",
      " 'ver': 1,\n",
      " 'workshops': 1,\n",
      " 'É': 1,\n",
      " 'é': 7,\n",
      " 'ótima': 2,\n",
      " 'últimas': 1}\n"
     ]
    }
   ],
   "source": [
    "def build_vocabulary(texts: list, tokenizer: callable) -> dict:\n",
    "    \"\"\"\n",
    "    Constrói um vocabulário a partir de uma lista de textos, usando uma função de tokenização fornecida.\n",
    "    \n",
    "    Args:\n",
    "    texts (list): Uma lista de textos a partir dos quais construir o vocabulário.\n",
    "    tokenizer (callable): A função de tokenização a ser utilizada.\n",
    "    \n",
    "    Returns:\n",
    "    dict: Um dicionário representando o vocabulário, onde as chaves são as palavras e os valores são as contagens.\n",
    "    \"\"\"\n",
    "    vocabulary = {}\n",
    "    for text in texts:\n",
    "        for token in tokenizer(text):\n",
    "            vocabulary[token] = vocabulary.get(token, 0) + 1\n",
    "    return vocabulary\n",
    "\n",
    "vocabulary = build_vocabulary(corpus_pybr23, regex_tokenizer)\n",
    "pprint(vocabulary)"
   ]
  },
  {
   "cell_type": "markdown",
   "id": "a277c259",
   "metadata": {},
   "source": [
    "Agora podemos vetorizar frases:"
   ]
  },
  {
   "cell_type": "code",
   "execution_count": 14,
   "id": "61508a21",
   "metadata": {},
   "outputs": [],
   "source": [
    "def vectorize(text: str, vocabulary: dict, tokenizer: callable) -> list:\n",
    "    \"\"\"\n",
    "    Vetoriza um texto com base em um vocabulário fornecido, utilizando um tokenizador fornecido.\n",
    "    \n",
    "    Args:\n",
    "    text (str): O texto a ser vetorizado.\n",
    "    vocabulary (dict): O vocabulário usado para vetorizar o texto.\n",
    "    tokenizer (callable): A função de tokenização a ser utilizada.\n",
    "    \n",
    "    Returns:\n",
    "    list: Um vetor representando o texto.\n",
    "    \"\"\"\n",
    "    vector = [0] * len(vocabulary)\n",
    "    word_list = tokenizer(text)\n",
    "    for i, word in enumerate(vocabulary):\n",
    "        vector[i] = word_list.count(word)\n",
    "    return vector"
   ]
  },
  {
   "cell_type": "code",
   "execution_count": 16,
   "id": "9953235c",
   "metadata": {},
   "outputs": [
    {
     "data": {
      "text/plain": [
       "(19, 19)"
      ]
     },
     "execution_count": 16,
     "metadata": {},
     "output_type": "execute_result"
    }
   ],
   "source": [
    "vectorized_sentences = [vectorize(sentence, vocabulary, regex_tokenizer) for sentence in corpus_pybr23]\n",
    "\n",
    "len(corpus_pybr23), len(vectorized_sentences)"
   ]
  },
  {
   "cell_type": "markdown",
   "id": "00a31111",
   "metadata": {},
   "source": [
    "Vamos ver alguns exemplos:"
   ]
  },
  {
   "cell_type": "code",
   "execution_count": 19,
   "id": "ea2b6b2d",
   "metadata": {},
   "outputs": [],
   "source": [
    "import matplotlib.pyplot as plt\n",
    "\n",
    "def show_vector(i, vectors, corpus):\n",
    "    print(\"Tamanho do vocabulário: \", len(vocabulary), \" tokens\")\n",
    "    print(f\"Frase para vetorizar: '{corpus[i]}'\")\n",
    "    print(f\"Frase tokenizada: \", regex_tokenizer(corpus[i]))\n",
    "    print(\"Tamanho da frase vetorizada: \", len(vectors[i]))\n",
    "    print(\"Primeiros 20 elementos da frase vetorizada\", vectors[i][:20])"
   ]
  },
  {
   "cell_type": "code",
   "execution_count": 20,
   "id": "f3b8f2ce",
   "metadata": {},
   "outputs": [
    {
     "name": "stdout",
     "output_type": "stream",
     "text": [
      "Tamanho do vocabulário:  107  tokens\n",
      "Frase para vetorizar: 'Eu adoro participar da Python Brasil.'\n",
      "Frase tokenizada:  ['Eu', 'adoro', 'participar', 'da', 'Python', 'Brasil']\n",
      "Tamanho da frase vetorizada:  107\n",
      "Primeiros 20 elementos da frase vetorizada [1, 1, 1, 1, 1, 1, 0, 0, 0, 0, 0, 0, 0, 0, 0, 0, 0, 0, 0, 0]\n"
     ]
    }
   ],
   "source": [
    "# experimente outras mensagens mudando o index i\n",
    "show_vector(i=0, vectors=vectorized_sentences, corpus=corpus_pybr23)"
   ]
  },
  {
   "cell_type": "code",
   "execution_count": 27,
   "id": "c1cb6cab",
   "metadata": {},
   "outputs": [
    {
     "name": "stdout",
     "output_type": "stream",
     "text": [
      "0 Eu\n",
      "1 adoro\n",
      "2 participar\n",
      "3 da\n",
      "4 Python\n",
      "5 Brasil\n",
      "6 Ano\n",
      "7 passado\n",
      "8 fui\n",
      "9 na\n",
      "10 em\n",
      "11 Manaus\n"
     ]
    }
   ],
   "source": [
    "for i, word in enumerate(vocabulary):\n",
    "    print(i, word)\n",
    "    if i > 10: \n",
    "        break"
   ]
  },
  {
   "cell_type": "code",
   "execution_count": 30,
   "id": "46129824",
   "metadata": {},
   "outputs": [
    {
     "name": "stdout",
     "output_type": "stream",
     "text": [
      "Tamanho do vocabulário:  107  tokens\n",
      "Frase para vetorizar: 'Ano passado fui na Python Brasil em Manaus e agora estou na edição 2023, em Caxias do Sul.'\n",
      "Frase tokenizada:  ['Ano', 'passado', 'fui', 'na', 'Python', 'Brasil', 'em', 'Manaus', 'e', 'agora', 'estou', 'na', 'edição', '2023', 'em', 'Caxias', 'do', 'Sul']\n",
      "Tamanho da frase vetorizada:  107\n",
      "Primeiros 20 elementos da frase vetorizada [0, 0, 0, 0, 1, 1, 1, 1, 1, 2, 2, 1, 1, 1, 1, 1, 1, 1, 1, 1]\n"
     ]
    }
   ],
   "source": [
    "show_vector(i=1, vectors=vectorized_sentences, corpus=corpus_pybr23)"
   ]
  },
  {
   "cell_type": "markdown",
   "id": "a83873fb",
   "metadata": {},
   "source": [
    "Note que os vetores tem um número grande de entradas, então não podemos visualizar facilmente eles em 2D. Mas vamos ver alguns exemplos em 2D logo a seguir!"
   ]
  },
  {
   "cell_type": "markdown",
   "id": "42433e98",
   "metadata": {},
   "source": [
    "### Distância entre vetores <a name=\"vector-dist\"></a>\n",
    "\n",
    "Agora que sabemos transformar frases em vetores, podemos calcalar a distância entre frases! Basta definir alguma medida numérica de distância entre os vetores. Existem várias formas de medir isso, então aqui vão algumas medidas clássicas:\n",
    "\n",
    "- [Similaridade por Distância Euclidiana](https://en.wikipedia.org/wiki/Euclidean_distance): \n",
    "$$d(\\mathbf{a}, \\mathbf{b}) = \\sqrt{\\sum_{i=1}^n (a_i - b_i)^2}$$ \n",
    "É uma medida da distância geométrica entre dois pontos (ou vetores) em um espaço n-dimensional, similar ao caso bidimensional, onde usamos o Teorema de Pitágoras.\n",
    "- [Similaridade por Cosseno](https://en.wikipedia.org/wiki/Cosine_similarity) $$ \\text{sim}(\\mathbf{a}, \\mathbf{b}) = \\frac{\\mathbf{a} \\cdot \\mathbf{b}}{||\\mathbf{a}|| \\cdot ||\\mathbf{b}||} $$\n",
    "A similaridade por cosseno mede o cosseno do ângulo entre dois vetores não nulos no espaço n-dimensional. \n",
    "Ela varia entre -1 e 1: o valor 1 indica que os vetores são idênticos, 0 que são ortogonais (sem semelhança) e -1 que são diametralmente opostos."
   ]
  },
  {
   "cell_type": "markdown",
   "id": "a1c72488",
   "metadata": {},
   "source": [
    "A similaridade por cosseno é mais comum em aplicações com NLP do que a euclidiana, por diversos motivos. Note que ela se importa mais com a orientação dos vetores do que com os valores de cada componente. Ou seja, dois documentos que são do mesmo contexto, mas um sendo muito mais longo que o outro, terão orientação similar, mas uma distância euclidiana muito grande. Veremos exemplos em breve.\n",
    "\n",
    "Vamos começar com exemplos mais simples. "
   ]
  },
  {
   "cell_type": "markdown",
   "id": "a419c65e",
   "metadata": {},
   "source": [
    "Já existe uma implementação pronta da [distância euclidiana na biblioteca scipy](https://www.google.com/search?q=from+scipy.spatial.distance+import+euclidean&oq=from+scipy.spatial.distance+import+euclidean&gs_lcrp=EgZjaHJvbWUyBggAEEUYOdIBBzEzN2owajeoAgCwAgA&sourceid=chrome&ie=UTF-8) e da [similaridade por cosseno no no sklearn](https://scikit-learn.org/stable/modules/generated/sklearn.metrics.pairwise.cosine_similarity.html), por meio dos imports\n",
    "```\n",
    "from scipy.spatial.distance import euclidean\n",
    "from sklearn.metrics.pairwise import cosine_similarity\n",
    "```\n",
    "mas, como exercício, deixaremos a implementação delas por completo aqui e mostraremos as duas."
   ]
  },
  {
   "cell_type": "code",
   "execution_count": 31,
   "id": "2b355f29",
   "metadata": {},
   "outputs": [],
   "source": [
    "import numpy as np\n",
    "from sklearn.metrics.pairwise import cosine_similarity\n",
    "from scipy.spatial.distance import euclidean\n",
    "\n",
    "def manual_euclidean(vector1: np.array, vector2: np.array) -> float:\n",
    "    \"\"\"\n",
    "    Calcula a distância euclidiana entre dois vetores.\n",
    "\n",
    "    Args:\n",
    "    vector1 (np.array): O primeiro vetor.\n",
    "    vector2 (np.array): O segundo vetor.\n",
    "    \n",
    "    Returns:\n",
    "    float: A distância euclidiana entre os vetores.\n",
    "    \"\"\"\n",
    "    return np.sqrt(np.sum((vector1 - vector2)**2))\n",
    "\n",
    "def manual_cosine_similarity(vector1: np.array, vector2: np.array) -> float:\n",
    "    \"\"\"\n",
    "    Calcula a similaridade de cosseno entre dois vetores.\n",
    "\n",
    "    Args:\n",
    "    vector1 (np.array): O primeiro vetor.\n",
    "    vector2 (np.array): O segundo vetor.\n",
    "    \n",
    "    Returns:\n",
    "    float: A similaridade de cosseno entre os vetores.\n",
    "    \"\"\"\n",
    "    dot_product = np.dot(vector1, vector2)\n",
    "    magnitude_vector1 = np.sqrt(np.sum(vector1**2))\n",
    "    magnitude_vector2 = np.sqrt(np.sum(vector2**2))\n",
    "    return dot_product / (magnitude_vector1 * magnitude_vector2)"
   ]
  },
  {
   "cell_type": "code",
   "execution_count": 32,
   "id": "ec13c75e",
   "metadata": {},
   "outputs": [
    {
     "data": {
      "text/plain": [
       "(1.0, 5.385164807134504, 4.47213595499958, 5.0990195135927845)"
      ]
     },
     "execution_count": 32,
     "metadata": {},
     "output_type": "execute_result"
    }
   ],
   "source": [
    "# Definindo alguns vetores. \n",
    "# Imagine que cada entrada representa um token do vocabulário de tamanho 2.\n",
    "# a e b são mais próximos entre si do que c\n",
    "\n",
    "a = np.array([2, 3])\n",
    "b = np.array([3, 3])\n",
    "c = np.array([7, 1])\n",
    "d = np.array([-a[1], a[0]]) # d é ortogonal ao vetor 'a'\n",
    "\n",
    "# euclidiana\n",
    "dist_ab = euclidean(a, b)\n",
    "dist_ac = euclidean(a, c)\n",
    "dist_bc = euclidean(b, c)\n",
    "dist_ad = euclidean(a, d)\n",
    "\n",
    "(dist_ab, dist_ac, dist_bc, dist_ad)"
   ]
  },
  {
   "cell_type": "code",
   "execution_count": 33,
   "id": "5d51723a",
   "metadata": {},
   "outputs": [],
   "source": [
    "assert (\n",
    "    (dist_ab, dist_ac, dist_bc, dist_ad) \n",
    "    == (manual_euclidean(a, b), manual_euclidean(a, c), manual_euclidean(b, c), manual_euclidean(a, d))\n",
    ")"
   ]
  },
  {
   "cell_type": "code",
   "execution_count": 34,
   "id": "06154a60",
   "metadata": {},
   "outputs": [
    {
     "data": {
      "text/plain": [
       "(0.9805806756909202, 0.6667948594698258, 0.7999999999999999, 0.0)"
      ]
     },
     "execution_count": 34,
     "metadata": {},
     "output_type": "execute_result"
    }
   ],
   "source": [
    "# similaridade de cosseno\n",
    "# A função cosine_similarity retorna uma matriz, então nós pegamos o valor [0][0]\n",
    "cos_sim_ab = cosine_similarity(a.reshape(1, -1), b.reshape(1, -1))[0][0]\n",
    "cos_sim_ac = cosine_similarity(a.reshape(1, -1), c.reshape(1, -1))[0][0]\n",
    "cos_sim_bc = cosine_similarity(b.reshape(1, -1), c.reshape(1, -1))[0][0]\n",
    "cos_sim_ad = cosine_similarity(a.reshape(1, -1), d.reshape(1, -1))[0][0]\n",
    "\n",
    "(cos_sim_ab, cos_sim_ac, cos_sim_bc, cos_sim_ad)"
   ]
  },
  {
   "cell_type": "markdown",
   "id": "25b8b940",
   "metadata": {},
   "source": [
    "Para comparar as implementações, neste caso podem ocorrer pequenas variações númericas versus a implementação do sklearn (se quiser, veja o código fonte [aqui](https://github.com/scikit-learn/scikit-learn/blob/093e0cf14/sklearn/metrics/pairwise.py#L1534)), por isso vamos comparar de forma aproximada:"
   ]
  },
  {
   "cell_type": "code",
   "execution_count": 35,
   "id": "0bb1ceb2",
   "metadata": {},
   "outputs": [],
   "source": [
    "np.testing.assert_approx_equal(cos_sim_ab, manual_cosine_similarity(a, b))"
   ]
  },
  {
   "cell_type": "code",
   "execution_count": 36,
   "id": "b30e039d",
   "metadata": {},
   "outputs": [],
   "source": [
    "np.testing.assert_approx_equal(cos_sim_ac, manual_cosine_similarity(a, c))"
   ]
  },
  {
   "cell_type": "code",
   "execution_count": 37,
   "id": "548e88a6",
   "metadata": {},
   "outputs": [],
   "source": [
    "np.testing.assert_approx_equal(cos_sim_bc, manual_cosine_similarity(b, c))"
   ]
  },
  {
   "cell_type": "markdown",
   "id": "e6e9be17",
   "metadata": {},
   "source": [
    "#### Plotando os vetores"
   ]
  },
  {
   "cell_type": "code",
   "execution_count": 38,
   "id": "af7c78d6",
   "metadata": {},
   "outputs": [
    {
     "data": {
      "image/png": "[encoded data removed]",
      "text/plain": [
       "<Figure size 800x800 with 1 Axes>"
      ]
     },
     "metadata": {},
     "output_type": "display_data"
    }
   ],
   "source": [
    "import matplotlib.pyplot as plt\n",
    "\n",
    "plt.figure(figsize=(8, 8))\n",
    "\n",
    "plt.quiver(0, 0, a[0], a[1], angles='xy', scale_units='xy', scale=1, color='r', label='Vector a')\n",
    "plt.quiver(0, 0, b[0], b[1], angles='xy', scale_units='xy', scale=1, color='b', label='Vector b')\n",
    "plt.quiver(0, 0, c[0], c[1], angles='xy', scale_units='xy', scale=1, color='g', label='Vector c')\n",
    "plt.quiver(0, 0, d[0], d[1], angles='xy', scale_units='xy', scale=1, color='orange', label='Vector d')\n",
    "\n",
    "\n",
    "l = 9\n",
    "plt.xticks(np.arange(-l, l, 1))\n",
    "plt.yticks(np.arange(-l, l, 1))\n",
    "plt.axhline(y=0, color='k')\n",
    "plt.axvline(x=0, color='k')\n",
    "plt.grid()\n",
    "plt.legend()\n",
    "plt.ylabel(\"Y\")\n",
    "plt.xlabel(\"X\")\n",
    "\n",
    "\n",
    "plt.show()"
   ]
  },
  {
   "cell_type": "markdown",
   "id": "35ffcfe1",
   "metadata": {},
   "source": [
    "### Embeddings <a name=\"embeds\"></a>\n",
    "\n",
    "Deu para notar nos exemplos acima que os vocabulários podem ficar bem grandes, mesmo ao tentar excluir palavras que não adicionam muita informação semântica ao contexto, principalmente quando queremos comparar palavras e frases. Isso deixa os vetores esparsos (cheios de zeros) e mais difíceis de manipular. __Além disso, Bag of Words não conseguem capturar bem a relação entre palavras__. \n",
    "\n",
    "Para superar essas dificuldades, uma abordagem que fez e ainda faz sucesso é usar modelos de ML para aprender representações latentes da linguagem, capturando features semânticas no treinamento. Por \"latente\", queremos dizer que são features que não têm um significado facilmente interpretável como um token (ex: \"Caxias\") mas, quando bem treinadas, conseguem capturar nuances mais profundas como a ideia de uma frase estar falando de cidades, por exemplo.\n",
    "\n",
    "Tecnicamente, __embbedings são representações densas e contínuas de palavras em um espaço vetorial de dimensão menor__ em comparação com as representações esparças como Bag of Words. Eles são muito usados em modelos e algoritmos de NLP.\n",
    "\n",
    "Existem diversos modelos de embeddings por aí, sendo alguns dos mais famosos e pioneiros o [Word2Vec do Google](https://en.wikipedia.org/wiki/Word2vec), o [Glove](https://en.wikipedia.org/wiki/GloVe) (feito em Stanford), o [FastText](https://en.wikipedia.org/wiki/FastText) do Facebook e o [BERT](https://en.wikipedia.org/wiki/BERT_(language_model)) do Google. \n",
    "\n",
    "Mas tá faltando os embeddings de alguém né? Sim, a OpenAI oferece também um [serviço de embeddings](https://platform.openai.com/docs/guides/embeddings) próprio, e vamos focar nele neste tutorial. \n",
    "\n",
    "Para usar a API do GPT, vamos precisar de uma chave de API. Exporte essa chave para a variável de ambiente `OPENAI_API_KEY`."
   ]
  },
  {
   "cell_type": "code",
   "execution_count": 39,
   "id": "2f98ac5d",
   "metadata": {},
   "outputs": [],
   "source": [
    "import openai\n",
    "\n",
    "def get_embedding(text: str):\n",
    "    return np.array(\n",
    "        openai.Embedding.create(\n",
    "            input=text, model=\"text-embedding-ada-002\"\n",
    "        )[\"data\"][0][\"embedding\"]\n",
    "    )"
   ]
  },
  {
   "cell_type": "code",
   "execution_count": 40,
   "id": "b2547a2e",
   "metadata": {},
   "outputs": [
    {
     "name": "stdout",
     "output_type": "stream",
     "text": [
      "Tamanho do vetor:  1536\n"
     ]
    },
    {
     "data": {
      "text/plain": [
       "array([ 0.00528153,  0.02633783,  0.01267034, -0.01246427, -0.04278402,\n",
       "        0.03555142, -0.01505019, -0.0115469 ,  0.02019544, -0.02382503])"
      ]
     },
     "execution_count": 40,
     "metadata": {},
     "output_type": "execute_result"
    }
   ],
   "source": [
    "caxias_do_sul = get_embedding(\"Caxias do Sul\")\n",
    "\n",
    "print(\"Tamanho do vetor: \", len(caxias_do_sul))\n",
    "caxias_do_sul[:10]"
   ]
  },
  {
   "cell_type": "code",
   "execution_count": 41,
   "id": "f918905e",
   "metadata": {},
   "outputs": [],
   "source": [
    "# Vamos comparar com outros termos\n",
    "\n",
    "rio_grande_do_sul = get_embedding(\"Rio Grande do Sul\")\n",
    "belem = get_embedding(\"Belém\")\n",
    "para = get_embedding(\"Pará\")\n",
    "\n",
    "texas = get_embedding(\"Texas, USA\")\n",
    "apple = get_embedding(\"Apple Juice\")"
   ]
  },
  {
   "cell_type": "markdown",
   "id": "9fb42efc",
   "metadata": {},
   "source": [
    "\"Caxias do Sul\" deve estar mais próximo de \"Rio Grande do Sul\" do que do \"Pará\": "
   ]
  },
  {
   "cell_type": "markdown",
   "id": "b040381b",
   "metadata": {},
   "source": [
    "__Euclidian__"
   ]
  },
  {
   "cell_type": "code",
   "execution_count": 42,
   "id": "c137ddc2",
   "metadata": {},
   "outputs": [
    {
     "data": {
      "text/plain": [
       "0.43859583916458317"
      ]
     },
     "execution_count": 42,
     "metadata": {},
     "output_type": "execute_result"
    }
   ],
   "source": [
    "euclidean(caxias_do_sul, rio_grande_do_sul)"
   ]
  },
  {
   "cell_type": "code",
   "execution_count": 43,
   "id": "da495313",
   "metadata": {},
   "outputs": [
    {
     "data": {
      "text/plain": [
       "0.6013288503699833"
      ]
     },
     "execution_count": 43,
     "metadata": {},
     "output_type": "execute_result"
    }
   ],
   "source": [
    "euclidean(caxias_do_sul, para)"
   ]
  },
  {
   "cell_type": "code",
   "execution_count": 44,
   "id": "7ba9a8d4",
   "metadata": {},
   "outputs": [
    {
     "data": {
      "text/plain": [
       "0.6541827625926767"
      ]
     },
     "execution_count": 44,
     "metadata": {},
     "output_type": "execute_result"
    }
   ],
   "source": [
    "euclidean(caxias_do_sul, texas)"
   ]
  },
  {
   "cell_type": "code",
   "execution_count": 45,
   "id": "68e22a63",
   "metadata": {},
   "outputs": [
    {
     "data": {
      "text/plain": [
       "0.7206023226445298"
      ]
     },
     "execution_count": 45,
     "metadata": {},
     "output_type": "execute_result"
    }
   ],
   "source": [
    "euclidean(caxias_do_sul, apple)"
   ]
  },
  {
   "cell_type": "markdown",
   "id": "bb6ec6e0",
   "metadata": {},
   "source": [
    "__Cosine Similarity__"
   ]
  },
  {
   "cell_type": "code",
   "execution_count": 46,
   "id": "6f7ea9ca",
   "metadata": {
    "scrolled": true
   },
   "outputs": [
    {
     "data": {
      "text/plain": [
       "0.9038168412414286"
      ]
     },
     "execution_count": 46,
     "metadata": {},
     "output_type": "execute_result"
    }
   ],
   "source": [
    "cosine_similarity(caxias_do_sul.reshape(1,-1), rio_grande_do_sul.reshape(1, -1))[0][0]"
   ]
  },
  {
   "cell_type": "code",
   "execution_count": 47,
   "id": "842e4a7d",
   "metadata": {},
   "outputs": [
    {
     "data": {
      "text/plain": [
       "0.8192018001798618"
      ]
     },
     "execution_count": 47,
     "metadata": {},
     "output_type": "execute_result"
    }
   ],
   "source": [
    "cosine_similarity(caxias_do_sul.reshape(1,-1), para.reshape(1, -1))[0][0]"
   ]
  },
  {
   "cell_type": "code",
   "execution_count": 48,
   "id": "e2456eaa",
   "metadata": {},
   "outputs": [
    {
     "data": {
      "text/plain": [
       "0.7860224562623284"
      ]
     },
     "execution_count": 48,
     "metadata": {},
     "output_type": "execute_result"
    }
   ],
   "source": [
    "cosine_similarity(caxias_do_sul.reshape(1,-1), texas.reshape(1, -1))[0][0]"
   ]
  },
  {
   "cell_type": "code",
   "execution_count": 49,
   "id": "365d23a2",
   "metadata": {},
   "outputs": [
    {
     "data": {
      "text/plain": [
       "0.740366128542058"
      ]
     },
     "execution_count": 49,
     "metadata": {},
     "output_type": "execute_result"
    }
   ],
   "source": [
    "cosine_similarity(caxias_do_sul.reshape(1,-1), apple.reshape(1, -1))[0][0]"
   ]
  },
  {
   "cell_type": "markdown",
   "id": "76bac5ec",
   "metadata": {},
   "source": [
    "Pronto, já sabemos transformar textos em vetores com embeddings poderosos! Podemos finalmente ir para a etapa de `Search` da abordagem `Search-Ask` para fazer perguntas ao GPT."
   ]
  },
  {
   "cell_type": "markdown",
   "id": "b386254e",
   "metadata": {},
   "source": [
    "### Vector Stores <a name=\"chroma\"></a>\n",
    "\n",
    "\n",
    "Para buscar documentos similares à pergunta do usuário, precisamos de um mecanismo de busca desses documentos. É justamente aí que entra a ideia de Embeddings e banco de dados para esses vetores, que são chamados de _Vector Stores_. Dessa forma, quando uma pergunta do usuário é feita, passamos ela por um embedding e buscamos vetores similares no banco, comparando os embeddings (vetores).\n",
    "\n",
    "Existem várias soluções de vector stores, e aqui vamos usar o [Chromadb](https://github.com/chroma-core/chroma) de exemplo. Vamos usá-lo já com a ajuda do Langchain, que \"embala\" muitas coisas pra nós. Geralmente, essas soluções são abstrações que se conectam com bancos já conhecidos como PostgreSQL, SQLlite, ElasticSearch, Cassandra etc.\n",
    "\n",
    "\n",
    "Normalmente, precisamos de formas especiais para carregar documentos, e o Langchain oferece muitas formas de fazer isso por meio de [document loaders](https://python.langchain.com/docs/modules/data_connection/document_loaders/), com diversas integrações com mais de [500 tipos de dados diferentes](https://integrations.langchain.com/), por ex: slack, google drive, csv, json, pdf etc. Esses loaders também têm estratégias para quebrar os documentos em partes ou chunks de forma a otimizar as buscas e limites de tokens.\n",
    "\n",
    "<font size=\"2\">Mais detalhes sobre vector stores aqui na [doc do Langchain](https://python.langchain.com/docs/modules/data_connection/vectorstores/).\n",
    "</font>"
   ]
  },
  {
   "cell_type": "markdown",
   "id": "bdd1b16c",
   "metadata": {},
   "source": [
    "<div>\n",
    "<img src=\"images/04_vectorstores.jpeg\" width=\"800\"/>\n",
    "</div>"
   ]
  },
  {
   "cell_type": "markdown",
   "id": "404b45e5",
   "metadata": {},
   "source": [
    "Vamos carregar o FAQ da Buser, que contém a base de conhecimento que queremos que o GPT tenha acesso:"
   ]
  },
  {
   "cell_type": "code",
   "execution_count": 50,
   "id": "db5b4b6c",
   "metadata": {},
   "outputs": [
    {
     "name": "stdout",
     "output_type": "stream",
     "text": [
      "faq_search_ask_dataset.csv\r\n"
     ]
    }
   ],
   "source": [
    "!ls data"
   ]
  },
  {
   "cell_type": "code",
   "execution_count": 51,
   "id": "bee937a4",
   "metadata": {},
   "outputs": [
    {
     "data": {
      "text/html": [
       "<div>\n",
       "<style scoped>\n",
       "    .dataframe tbody tr th:only-of-type {\n",
       "        vertical-align: middle;\n",
       "    }\n",
       "\n",
       "    .dataframe tbody tr th {\n",
       "        vertical-align: top;\n",
       "    }\n",
       "\n",
       "    .dataframe thead th {\n",
       "        text-align: right;\n",
       "    }\n",
       "</style>\n",
       "<table border=\"1\" class=\"dataframe\">\n",
       "  <thead>\n",
       "    <tr style=\"text-align: right;\">\n",
       "      <th></th>\n",
       "      <th>id</th>\n",
       "      <th>type</th>\n",
       "      <th>chunk</th>\n",
       "    </tr>\n",
       "  </thead>\n",
       "  <tbody>\n",
       "    <tr>\n",
       "      <th>0</th>\n",
       "      <td>205</td>\n",
       "      <td>faq</td>\n",
       "      <td>Question: Gratuidades e Meia Tarifa\\nAnswer: Descontos e gratuidades para estudantes, idosos e outras categorias previstas em lei, são aplicados apenas às empresas que operam o serviço público de transporte de passageiros, ou seja, aquelas que executam linhas regulares, comumente presentes nos terminais rodoviários.A Buser é uma plataforma de fretamento colaborativo, serviço privado, em que o valor das viagens é dividido pelos passageiros, por isso todos precisam pagar pelo valor cheio das reservas.</td>\n",
       "    </tr>\n",
       "    <tr>\n",
       "      <th>1</th>\n",
       "      <td>216</td>\n",
       "      <td>faq</td>\n",
       "      <td>Question: Exclusão de dados pessoais\\nAnswer: Se por algum motivo você deseja excluir as suas informações pessoais da nossa base de dados, pedimos que preencha esse formulário com os mesmos dados informados no momento do seu cadastro.É importante que você saiba que alguns dados poderão ser mantidos para finalidades legais, e após a confirmação da sua solicitação, o prazo de atendimento via e-mail é de até 15 dias.Para saber mais sobre como tratamos os seus dados, confira a nossa política de privacidade.</td>\n",
       "    </tr>\n",
       "    <tr>\n",
       "      <th>2</th>\n",
       "      <td>218</td>\n",
       "      <td>faq</td>\n",
       "      <td>Question: Cadastro e recuperação de senha\\nAnswer: Para se cadastrar: clique em “Entrar ou Cadastrar” na parte superior direita da tela, escolha a forma de cadastro desejada e preencha com os dados solicitados.Para recuperar a sua senha: se você esqueceu a sua senha de acesso, você pode recuperá-la pelo e-mail, telefone ou CPF cadastrados na sua conta. Basta inserir uma dessas informações na hora de fazer o login e clicar em “esqueci minha senha” - você receberá um e-mail ou um SMS com instruções para redefini-la.</td>\n",
       "    </tr>\n",
       "    <tr>\n",
       "      <th>3</th>\n",
       "      <td>219</td>\n",
       "      <td>faq</td>\n",
       "      <td>Question: Perdi acesso ao meu email e telefone\\nAnswer: Se você não tem mais acesso ao seu e-mail ou telefone cadastrados e precisa recuperar a sua senha ou acessar a sua conta, entre em contato com a nossa equipe de experiência do cliente pelo chat ou e-mail, disponíveis no final da página da Central de Ajuda. Pedimos que explique a situação e nossa equipe passará as orientações necessárias para comprovar os seus dados e recuperar a sua conta.</td>\n",
       "    </tr>\n",
       "    <tr>\n",
       "      <th>4</th>\n",
       "      <td>5277</td>\n",
       "      <td>faq</td>\n",
       "      <td>Question: Programa de Fidelidade\\nAnswer: O que é o programa de fidelidade BuserO Buser Fidelidade é um programa que recompensa os clientes que viajam com frequência pela Buser. Cada objetivo do Fidelidade possui regras e recompensas próprias e podem variar de acordo com a sua localização e com a disponibilidade da plataforma.Regras do programa de FidelidadeTodos os objetivos do Buser Fidelidade possuem data de validade, isso significa que caso o objetivo não tenha sido concluído dentro do prazo o progresso será perdido e o objetivo pode ficar indisponível no site e app.Sempre que um objetivo for concluído, um cupom será disponibilizado na conta de acordo com as regras de cada objetivo. Os cupons disponibilizados também possuem validade para serem utilizados e podem ser consultados na página de cupons do perfil logado do usuário do site.</td>\n",
       "    </tr>\n",
       "  </tbody>\n",
       "</table>\n",
       "</div>"
      ],
      "text/plain": [
       "     id type  \\\n",
       "0   205  faq   \n",
       "1   216  faq   \n",
       "2   218  faq   \n",
       "3   219  faq   \n",
       "4  5277  faq   \n",
       "\n",
       "                                                                                                                                                                                                                                                                                                                                                                                                                                                                                                                                                                                                                                                                                                                                                                                                                                                                               chunk  \n",
       "0                                                                                                                                                                                                                                                                                                                                                           Question: Gratuidades e Meia Tarifa\\nAnswer: Descontos e gratuidades para estudantes, idosos e outras categorias previstas em lei, são aplicados apenas às empresas que operam o serviço público de transporte de passageiros, ou seja, aquelas que executam linhas regulares, comumente presentes nos terminais rodoviários.A Buser é uma plataforma de fretamento colaborativo, serviço privado, em que o valor das viagens é dividido pelos passageiros, por isso todos precisam pagar pelo valor cheio das reservas.  \n",
       "1                                                                                                                                                                                                                                                                                                                                                       Question: Exclusão de dados pessoais\\nAnswer: Se por algum motivo você deseja excluir as suas informações pessoais da nossa base de dados, pedimos que preencha esse formulário com os mesmos dados informados no momento do seu cadastro.É importante que você saiba que alguns dados poderão ser mantidos para finalidades legais, e após a confirmação da sua solicitação, o prazo de atendimento via e-mail é de até 15 dias.Para saber mais sobre como tratamos os seus dados, confira a nossa política de privacidade.  \n",
       "2                                                                                                                                                                                                                                                                                                                                            Question: Cadastro e recuperação de senha\\nAnswer: Para se cadastrar: clique em “Entrar ou Cadastrar” na parte superior direita da tela, escolha a forma de cadastro desejada e preencha com os dados solicitados.Para recuperar a sua senha: se você esqueceu a sua senha de acesso, você pode recuperá-la pelo e-mail, telefone ou CPF cadastrados na sua conta. Basta inserir uma dessas informações na hora de fazer o login e clicar em “esqueci minha senha” - você receberá um e-mail ou um SMS com instruções para redefini-la.  \n",
       "3                                                                                                                                                                                                                                                                                                                                                                                                                   Question: Perdi acesso ao meu email e telefone\\nAnswer: Se você não tem mais acesso ao seu e-mail ou telefone cadastrados e precisa recuperar a sua senha ou acessar a sua conta, entre em contato com a nossa equipe de experiência do cliente pelo chat ou e-mail, disponíveis no final da página da Central de Ajuda. Pedimos que explique a situação e nossa equipe passará as orientações necessárias para comprovar os seus dados e recuperar a sua conta.  \n",
       "4  Question: Programa de Fidelidade\\nAnswer: O que é o programa de fidelidade BuserO Buser Fidelidade é um programa que recompensa os clientes que viajam com frequência pela Buser. Cada objetivo do Fidelidade possui regras e recompensas próprias e podem variar de acordo com a sua localização e com a disponibilidade da plataforma.Regras do programa de FidelidadeTodos os objetivos do Buser Fidelidade possuem data de validade, isso significa que caso o objetivo não tenha sido concluído dentro do prazo o progresso será perdido e o objetivo pode ficar indisponível no site e app.Sempre que um objetivo for concluído, um cupom será disponibilizado na conta de acordo com as regras de cada objetivo. Os cupons disponibilizados também possuem validade para serem utilizados e podem ser consultados na página de cupons do perfil logado do usuário do site.  "
      ]
     },
     "execution_count": 51,
     "metadata": {},
     "output_type": "execute_result"
    }
   ],
   "source": [
    "import pandas as pd\n",
    "pd.set_option('display.max_colwidth', None)\n",
    "from langchain.embeddings.openai import OpenAIEmbeddings\n",
    "from langchain.vectorstores import Chroma\n",
    "\n",
    "\n",
    "df_faq = pd.read_csv(\"data/faq_search_ask_dataset.csv\")\n",
    "df_faq.head()"
   ]
  },
  {
   "cell_type": "code",
   "execution_count": 52,
   "id": "b1992cd6",
   "metadata": {},
   "outputs": [
    {
     "data": {
      "text/html": [
       "<div>\n",
       "<style scoped>\n",
       "    .dataframe tbody tr th:only-of-type {\n",
       "        vertical-align: middle;\n",
       "    }\n",
       "\n",
       "    .dataframe tbody tr th {\n",
       "        vertical-align: top;\n",
       "    }\n",
       "\n",
       "    .dataframe thead th {\n",
       "        text-align: right;\n",
       "    }\n",
       "</style>\n",
       "<table border=\"1\" class=\"dataframe\">\n",
       "  <thead>\n",
       "    <tr style=\"text-align: right;\">\n",
       "      <th></th>\n",
       "      <th>id</th>\n",
       "      <th>type</th>\n",
       "      <th>chunk</th>\n",
       "    </tr>\n",
       "  </thead>\n",
       "  <tbody>\n",
       "    <tr>\n",
       "      <th>25</th>\n",
       "      <td>190</td>\n",
       "      <td>faq</td>\n",
       "      <td>Question: Cancelamento grátis da minha viagem\\nAnswer: Viagem com parceiros Buser: as reservas podem ser canceladas de forma gratuita até 1 hora antes do embarque. Para cancelar, você deve:Acessar a aba de viagens e selecionar a reserva que deseja cancelar;No final da página, no campo “Ajuda”, clicar em “Cancelar minha reserva”;Informar o motivo e fazer o cancelamento da reserva. Após 1 hora antes do horário do embarque não é possível cancelar a reserva, mas você consegue solicitar um cupom para agendar uma nova viagem. Caso você não tenha embarcado, o cupom ficará disponível na aba de viagens após 30 minutos do início do embarque.Importante: Se você pagou a reserva no boleto, ao cancelar a reserva dentro do prazo, você receberá o estorno integral do valor pago em sua \"Carteira\" que ficará disponível para saque por 7 dias. Após esse período, esse valor se transforma em um cupom para uso em reservas na Buser.Viagens de revenda de passagem:  O cancelamento só poderá ser feito até 3 horas antes do embarque para receber o reembolso; após esse período, não será realizado o reembolso. Para cancelar, você deve:Acessar a aba de viagens e selecionar a reserva que deseja cancelar;No final da página, no campo “Ajuda”, clicar em “Cancelar minha reserva”;Informar o motivo e fazer o cancelamento da reserva.Caso você precise cancelar após as 3 horas que antecedem a viagem, é necessário verificar a possibilidade de cancelamento diretamente com a empresa responsável pela viagem. Você pode acessar o contato da empresa nos detalhes da sua reserva, em “Dados da viagem”. Importante: Se você pagou a reserva no boleto, ao cancelar a reserva dentro do prazo, você receberá o estorno integral do valor pago em sua \"Carteira\" que ficará disponível para saque por 30 dias. Após esse período, esse valor se transforma em um cupom para uso em reservas na Buser.</td>\n",
       "    </tr>\n",
       "    <tr>\n",
       "      <th>28</th>\n",
       "      <td>192</td>\n",
       "      <td>faq</td>\n",
       "      <td>Question: Transferir reserva para outra pessoa\\nAnswer: Sua reserva é pessoal e intransferível, por esse motivo não é possível fazer a transferência para outra pessoa. Nesses casos, a orientação é cancelar a sua reserva atual e fazer uma nova reserva no nome da pessoa para quem deseja transferir. O cancelamento é bem simples:Acesse a aba de viagens e selecione a reserva que deseja cancelar;No final da página, no campo “Ajuda”, clique em “Cancelar minha reserva”;Informe o motivo e faça o cancelamento da reserva.Importante: caso a sua reserva atual seja de alguma promoção ou tenha usado um cupom que não esteja mais válido na data da alteração, o valor da promoção ou do cupom não terá mais validade.</td>\n",
       "    </tr>\n",
       "    <tr>\n",
       "      <th>39</th>\n",
       "      <td>210</td>\n",
       "      <td>faq</td>\n",
       "      <td>Question: Reclamar ou solicitar reembolso\\nAnswer: Reembolso em caso de cancelamentoVocê pode solicitar o reembolso da sua viagem caso tenha cancelado a sua reserva dentro dos prazos estabelecidos.Em viagens com parceiros Buser, o cancelamento deve ser feito até 1h antes do embarque. Já em viagens de revenda de passagem, é necessário cancelar a reserva até 3h antes do embarque para que seja possível solicitar o reembolso.Depois que você concluir o cancelamento de acordo com o prazo do seu tipo de viagem, o valor será disponibilizado na sua Carteira Buser - você poderá utilizá-lo para fazer outra reserva ou, se preferir, poderá sacar esse dinheiro em até 7 dias.Caso opte pelo saque do dinheiro, siga o passo a passo dentro do app ou site:Clique em “Carteira” e depois em “Sacar”; Escolha uma das opções de devolução;Preencha as informações solicitadas.Saques acima de R$100: é necessário realizar uma confirmação de segurança com o envio de uma foto frente e verso do seu RG ou CNH, e uma foto sua segurando o documento, em que seja possível identificar o seu rosto. A confirmação de segurança leva até 2 dias úteis para ser finalizada.Reembolso em caso de problemas durante a viagemSe você teve algum problema durante a sua viagem e gostaria de conversar sobre a possibilidade de um reembolso, pedimos que entre em contato com o nosso time de experiência do cliente pelo chat, localizado no final da página da Central de Ajuda.</td>\n",
       "    </tr>\n",
       "  </tbody>\n",
       "</table>\n",
       "</div>"
      ],
      "text/plain": [
       "     id type  \\\n",
       "25  190  faq   \n",
       "28  192  faq   \n",
       "39  210  faq   \n",
       "\n",
       "                                                                                                                                                                                                                                                                                                                                                                                                                                                                                                                                                                                                                                                                                                                                                                                                                                                                                                                                                                                                                                                                                                                                                                                                                                                                                                                                                                                                                                                                                                                                                                                                                                                                                                                                                                                                                                                                                                                                   chunk  \n",
       "25  Question: Cancelamento grátis da minha viagem\\nAnswer: Viagem com parceiros Buser: as reservas podem ser canceladas de forma gratuita até 1 hora antes do embarque. Para cancelar, você deve:Acessar a aba de viagens e selecionar a reserva que deseja cancelar;No final da página, no campo “Ajuda”, clicar em “Cancelar minha reserva”;Informar o motivo e fazer o cancelamento da reserva. Após 1 hora antes do horário do embarque não é possível cancelar a reserva, mas você consegue solicitar um cupom para agendar uma nova viagem. Caso você não tenha embarcado, o cupom ficará disponível na aba de viagens após 30 minutos do início do embarque.Importante: Se você pagou a reserva no boleto, ao cancelar a reserva dentro do prazo, você receberá o estorno integral do valor pago em sua \"Carteira\" que ficará disponível para saque por 7 dias. Após esse período, esse valor se transforma em um cupom para uso em reservas na Buser.Viagens de revenda de passagem:  O cancelamento só poderá ser feito até 3 horas antes do embarque para receber o reembolso; após esse período, não será realizado o reembolso. Para cancelar, você deve:Acessar a aba de viagens e selecionar a reserva que deseja cancelar;No final da página, no campo “Ajuda”, clicar em “Cancelar minha reserva”;Informar o motivo e fazer o cancelamento da reserva.Caso você precise cancelar após as 3 horas que antecedem a viagem, é necessário verificar a possibilidade de cancelamento diretamente com a empresa responsável pela viagem. Você pode acessar o contato da empresa nos detalhes da sua reserva, em “Dados da viagem”. Importante: Se você pagou a reserva no boleto, ao cancelar a reserva dentro do prazo, você receberá o estorno integral do valor pago em sua \"Carteira\" que ficará disponível para saque por 30 dias. Após esse período, esse valor se transforma em um cupom para uso em reservas na Buser.  \n",
       "28                                                                                                                                                                                                                                                                                                                                                                                                                                                                                                                                                                                                                                                                                                                                                                                                                                                                                                                                                                                                                                                                                                                                                                                                    Question: Transferir reserva para outra pessoa\\nAnswer: Sua reserva é pessoal e intransferível, por esse motivo não é possível fazer a transferência para outra pessoa. Nesses casos, a orientação é cancelar a sua reserva atual e fazer uma nova reserva no nome da pessoa para quem deseja transferir. O cancelamento é bem simples:Acesse a aba de viagens e selecione a reserva que deseja cancelar;No final da página, no campo “Ajuda”, clique em “Cancelar minha reserva”;Informe o motivo e faça o cancelamento da reserva.Importante: caso a sua reserva atual seja de alguma promoção ou tenha usado um cupom que não esteja mais válido na data da alteração, o valor da promoção ou do cupom não terá mais validade.   \n",
       "39                                                                                                                                                                                                                                                                                                                                                                                                                                          Question: Reclamar ou solicitar reembolso\\nAnswer: Reembolso em caso de cancelamentoVocê pode solicitar o reembolso da sua viagem caso tenha cancelado a sua reserva dentro dos prazos estabelecidos.Em viagens com parceiros Buser, o cancelamento deve ser feito até 1h antes do embarque. Já em viagens de revenda de passagem, é necessário cancelar a reserva até 3h antes do embarque para que seja possível solicitar o reembolso.Depois que você concluir o cancelamento de acordo com o prazo do seu tipo de viagem, o valor será disponibilizado na sua Carteira Buser - você poderá utilizá-lo para fazer outra reserva ou, se preferir, poderá sacar esse dinheiro em até 7 dias.Caso opte pelo saque do dinheiro, siga o passo a passo dentro do app ou site:Clique em “Carteira” e depois em “Sacar”; Escolha uma das opções de devolução;Preencha as informações solicitadas.Saques acima de R$100: é necessário realizar uma confirmação de segurança com o envio de uma foto frente e verso do seu RG ou CNH, e uma foto sua segurando o documento, em que seja possível identificar o seu rosto. A confirmação de segurança leva até 2 dias úteis para ser finalizada.Reembolso em caso de problemas durante a viagemSe você teve algum problema durante a sua viagem e gostaria de conversar sobre a possibilidade de um reembolso, pedimos que entre em contato com o nosso time de experiência do cliente pelo chat, localizado no final da página da Central de Ajuda.  "
      ]
     },
     "execution_count": 52,
     "metadata": {},
     "output_type": "execute_result"
    }
   ],
   "source": [
    "df_faq[df_faq.chunk.str.contains('cancelamento')]"
   ]
  },
  {
   "cell_type": "code",
   "execution_count": 53,
   "id": "4d5a2d51",
   "metadata": {},
   "outputs": [
    {
     "data": {
      "text/plain": [
       "'Question: Gratuidades e Meia Tarifa\\nAnswer: Descontos e gratuidades para estudantes, idosos e outras categorias previstas em lei, são aplicados apenas às empresas que operam o serviço público de transporte de passageiros, ou seja, aquelas que executam linhas regulares, comumente presentes nos terminais rodoviários.A Buser é uma plataforma de fretamento colaborativo, serviço privado, em que o valor das viagens é dividido pelos passageiros, por isso todos precisam pagar pelo valor cheio das reservas.'"
      ]
     },
     "execution_count": 53,
     "metadata": {},
     "output_type": "execute_result"
    }
   ],
   "source": [
    "chunks = df_faq.chunk.to_list()\n",
    "chunks[0]"
   ]
  },
  {
   "cell_type": "markdown",
   "id": "a9ce8924",
   "metadata": {},
   "source": [
    "Vamos criar embeddings para nossa base de conhecimento. Por algum motivo, ao tentar persistir novos embeddings no mesmo diretório, tive alguns erros, então simplesmente apaguei a pasta e a recriei:"
   ]
  },
  {
   "cell_type": "code",
   "execution_count": 54,
   "id": "75fadd07",
   "metadata": {},
   "outputs": [],
   "source": [
    "!rm -r embeddings/"
   ]
  },
  {
   "cell_type": "code",
   "execution_count": 55,
   "id": "09e3f371",
   "metadata": {},
   "outputs": [],
   "source": [
    "!mkdir embeddings/"
   ]
  },
  {
   "cell_type": "code",
   "execution_count": 56,
   "id": "781c4098",
   "metadata": {},
   "outputs": [
    {
     "name": "stdout",
     "output_type": "stream",
     "text": [
      "LICENSE                  \u001b[1m\u001b[36membeddings\u001b[m\u001b[m               requirements.txt\r\n",
      "README.md                \u001b[1m\u001b[36mimages\u001b[m\u001b[m\r\n",
      "\u001b[1m\u001b[36mdata\u001b[m\u001b[m                     question_answering.ipynb\r\n"
     ]
    }
   ],
   "source": [
    "!ls ."
   ]
  },
  {
   "cell_type": "code",
   "execution_count": 57,
   "id": "158c78a4",
   "metadata": {},
   "outputs": [
    {
     "name": "stdout",
     "output_type": "stream",
     "text": [
      "Embeddings created.\n"
     ]
    }
   ],
   "source": [
    "docsearch = Chroma.from_texts(\n",
    "    texts=chunks,\n",
    "    embedding=OpenAIEmbeddings(),\n",
    "    persist_directory=\"embeddings/\",\n",
    ")\n",
    "print(\"Embeddings created.\")"
   ]
  },
  {
   "cell_type": "markdown",
   "id": "a888ad36",
   "metadata": {},
   "source": [
    "O chromadb vai usar sqlite para carregar os embeddings quando for solicitado:"
   ]
  },
  {
   "cell_type": "markdown",
   "id": "87b1dd9d",
   "metadata": {},
   "source": [
    "Usando o vectordb:"
   ]
  },
  {
   "cell_type": "code",
   "execution_count": 58,
   "id": "187dc72e",
   "metadata": {},
   "outputs": [],
   "source": [
    "vectordb = Chroma(\n",
    "    persist_directory=\"embeddings/\", embedding_function=OpenAIEmbeddings()\n",
    ")"
   ]
  },
  {
   "cell_type": "code",
   "execution_count": 59,
   "id": "29a89d82",
   "metadata": {},
   "outputs": [
    {
     "name": "stdout",
     "output_type": "stream",
     "text": [
      "Help on method similarity_search_with_relevance_scores in module langchain.schema.vectorstore:\n",
      "\n",
      "similarity_search_with_relevance_scores(query: 'str', k: 'int' = 4, **kwargs: 'Any') -> 'List[Tuple[Document, float]]' method of langchain.vectorstores.chroma.Chroma instance\n",
      "    Return docs and relevance scores in the range [0, 1].\n",
      "    \n",
      "    0 is dissimilar, 1 is most similar.\n",
      "    \n",
      "    Args:\n",
      "        query: input text\n",
      "        k: Number of Documents to return. Defaults to 4.\n",
      "        **kwargs: kwargs to be passed to similarity search. Should include:\n",
      "            score_threshold: Optional, a floating point value between 0 to 1 to\n",
      "                filter the resulting set of retrieved docs\n",
      "    \n",
      "    Returns:\n",
      "        List of Tuples of (doc, similarity_score)\n",
      "\n"
     ]
    }
   ],
   "source": [
    "help(vectordb.similarity_search_with_relevance_scores)"
   ]
  },
  {
   "cell_type": "code",
   "execution_count": 60,
   "id": "4e07b01b",
   "metadata": {},
   "outputs": [
    {
     "name": "stdout",
     "output_type": "stream",
     "text": [
      "Doc #1, relevance=0.833899:\n",
      "\n",
      "Question: Reclamar ou solicitar reembolso\n",
      "Answer: Reembolso em caso de cancelamentoVocê pode solicitar o reembolso da sua viagem caso tenha cancelado a sua reserva dentro dos prazos estabelecidos.Em viagens com parceiros Buser, o cancelamento deve ser feito até 1h antes do embarque. Já em viagens de revenda de passagem, é necessário cancelar a reserva até 3h antes do embarque para que seja possível solicitar o reembolso.Depois que você concluir o cancelamento de acordo com o prazo do seu tipo de viagem, o valor será disponibilizado na sua Carteira Buser - você poderá utilizá-lo para fazer outra reserva ou, se preferir, poderá sacar esse dinheiro em até 7 dias.Caso opte pelo saque do dinheiro, siga o passo a passo dentro do app ou site:Clique em “Carteira” e depois em “Sacar”; Escolha uma das opções de devolução;Preencha as informações solicitadas.Saques acima de R$100: é necessário realizar uma confirmação de segurança com o envio de uma foto frente e verso do seu RG ou CNH, e uma foto sua segurando o documento, em que seja possível identificar o seu rosto. A confirmação de segurança leva até 2 dias úteis para ser finalizada.Reembolso em caso de problemas durante a viagemSe você teve algum problema durante a sua viagem e gostaria de conversar sobre a possibilidade de um reembolso, pedimos que entre em contato com o nosso time de experiência do cliente pelo chat, localizado no final da página da Central de Ajuda.\n",
      "--------------------------------------------------\n",
      "Doc #2, relevance=0.825742:\n",
      "\n",
      "Question: Cancelamento grátis da minha viagem\n",
      "Answer: Viagem com parceiros Buser: as reservas podem ser canceladas de forma gratuita até 1 hora antes do embarque. Para cancelar, você deve:Acessar a aba de viagens e selecionar a reserva que deseja cancelar;No final da página, no campo “Ajuda”, clicar em “Cancelar minha reserva”;Informar o motivo e fazer o cancelamento da reserva. Após 1 hora antes do horário do embarque não é possível cancelar a reserva, mas você consegue solicitar um cupom para agendar uma nova viagem. Caso você não tenha embarcado, o cupom ficará disponível na aba de viagens após 30 minutos do início do embarque.Importante: Se você pagou a reserva no boleto, ao cancelar a reserva dentro do prazo, você receberá o estorno integral do valor pago em sua \"Carteira\" que ficará disponível para saque por 7 dias. Após esse período, esse valor se transforma em um cupom para uso em reservas na Buser.Viagens de revenda de passagem:  O cancelamento só poderá ser feito até 3 horas antes do embarque para receber o reembolso; após esse período, não será realizado o reembolso. Para cancelar, você deve:Acessar a aba de viagens e selecionar a reserva que deseja cancelar;No final da página, no campo “Ajuda”, clicar em “Cancelar minha reserva”;Informar o motivo e fazer o cancelamento da reserva.Caso você precise cancelar após as 3 horas que antecedem a viagem, é necessário verificar a possibilidade de cancelamento diretamente com a empresa responsável pela viagem. Você pode acessar o contato da empresa nos detalhes da sua reserva, em “Dados da viagem”. Importante: Se você pagou a reserva no boleto, ao cancelar a reserva dentro do prazo, você receberá o estorno integral do valor pago em sua \"Carteira\" que ficará disponível para saque por 30 dias. Após esse período, esse valor se transforma em um cupom para uso em reservas na Buser.\n",
      "--------------------------------------------------\n",
      "Doc #3, relevance=0.813259:\n",
      "\n",
      "Question: Perdi minha viagem\n",
      "Answer: Perdeu a viagem? Não tem problema! Se a sua viagem for com alguma empresa parceira da Buser, você consegue remarcar diretamente pelo app ou site. Se a compra tiver sido feita na modalidade de revenda de passagem, é possível remarcar diretamente no guichê da empresa rodoviária.Viagens com empresas parceiras Buser: você consegue adquirir um cupom de 80% do valor pago na reserva para remarcação pelo app ou site até 30 dias contados a partir da data da viagem que você perdeu. É super fácil:Acesse a aba de viagens e clique na reserva que deseja remarcarClique no botão “Pedir cupom”. Depois é só seguir o processo indicado na tela para remarcaçãoImportante: A remarcação pode ser feita apenas uma vez e a ativação do cupom no mesmo valor da sua reserva fica disponível por 30 dias. Após esse prazo, não será possível remarcar a viagem.Viagens de revenda de passagem: a remarcação deve ser solicitada para a empresa responsável pela viagem, por telefone ou diretamente no guichê da rodoviária. Você pode acessar o contato da empresa nos detalhes da sua reserva, localizados em “Dados da viagem”. \n",
      "--------------------------------------------------\n",
      "Doc #4, relevance=0.806265:\n",
      "\n",
      "Question: Transferir reserva para outra pessoa\n",
      "Answer: Sua reserva é pessoal e intransferível, por esse motivo não é possível fazer a transferência para outra pessoa. Nesses casos, a orientação é cancelar a sua reserva atual e fazer uma nova reserva no nome da pessoa para quem deseja transferir. O cancelamento é bem simples:Acesse a aba de viagens e selecione a reserva que deseja cancelar;No final da página, no campo “Ajuda”, clique em “Cancelar minha reserva”;Informe o motivo e faça o cancelamento da reserva.Importante: caso a sua reserva atual seja de alguma promoção ou tenha usado um cupom que não esteja mais válido na data da alteração, o valor da promoção ou do cupom não terá mais validade. \n",
      "--------------------------------------------------\n"
     ]
    }
   ],
   "source": [
    "query = \"Como cancelo uma viagem?\"\n",
    "docs = vectordb.similarity_search_with_relevance_scores(query)\n",
    "\n",
    "for i, (doc, relevance) in enumerate(docs):\n",
    "    print(f\"Doc #{i+1}, relevance={round(relevance, 6)}:\\n\")\n",
    "    print(doc.page_content)\n",
    "    print(\"-\" * 50)"
   ]
  },
  {
   "cell_type": "code",
   "execution_count": 61,
   "id": "ebc55a17",
   "metadata": {},
   "outputs": [
    {
     "data": {
      "text/plain": [
       "4"
      ]
     },
     "execution_count": 61,
     "metadata": {},
     "output_type": "execute_result"
    }
   ],
   "source": [
    "len(docs)"
   ]
  },
  {
   "cell_type": "markdown",
   "id": "c6416bfa",
   "metadata": {},
   "source": [
    "Esta etapa de trazer os documentos com mais similaridade com a pergunta também é chamada de _Retrieval_, e constitui nossa última etapa dentro do grande tópico de `Search` desde o início do tutorial. A partir de agora, precisamos montar um prompt usando a pergunta, os documentos e orientações gerais para que o GPT consiga criar uma boa resposta"
   ]
  },
  {
   "cell_type": "markdown",
   "id": "71300a51",
   "metadata": {},
   "source": [
    "## Ask <a name=\"ask\"></a>\n",
    "\n",
    "Agora que temos pergunta do usuário e os documentos mais similares à pergunta, e que provavelmente contém a resposta, precisamos criar um bom prompt. O Langchain trabalha com um conceito de Prompt Template, que pode sofrer injeção de mais contexto. Aqui vai nosso exemplo:"
   ]
  },
  {
   "cell_type": "markdown",
   "id": "9e2324e1",
   "metadata": {},
   "source": [
    "### Prompt Template <a name=\"prompt-template\"></a>"
   ]
  },
  {
   "cell_type": "code",
   "execution_count": 62,
   "id": "95ab3465",
   "metadata": {},
   "outputs": [],
   "source": [
    "prompt_template_str = \"\"\"\n",
    "Você é um assistente virtual que responde a qualquer pergunta sobre viagens com a Buser. \n",
    "Você recebe uma pergunta e um conjunto de informações relacionadas à Buser.\n",
    "Se a pergunta do usuário exigir que você forneça informações específicas das informações fornecidas, \n",
    "dê sua resposta com base apenas nos exemplos abaixo (seção Documents). NÃO gere uma resposta que NÃO esteja \n",
    "escrita nos exemplos (documentos) fornecidos.\n",
    "Se você não encontrar a resposta para a pergunta do usuário com os exemplos fornecidos abaixo, \n",
    "responda que não encontrou a resposta nas informações e proponha que ele reformule sua consulta com mais \n",
    "detalhes ou entre em contato com o atendimento humano. Nestes casos, injete o texto '__ANSWER_NOT_FOUND__' \n",
    "no final da sua resposta, para indicar no backend que é um caso em que você não foi capaz de responder.\n",
    "Se você notar que a pergunta se trata de casos críticos durante a viagem, como acidentes, falha mecânica \n",
    "do ônibus (quando o ônibus \"quebra\"), assédios, brigas ou fiscalização rodoviária, independente de você \n",
    "conseguir responder ou não, injete o termo '__EMERGENCY__' no final do texto para nosso backend capturar esse caso.\n",
    "Use marcadores se precisar fazer uma lista, apenas se necessário.\n",
    "\n",
    "Relembrando o modelo de negócio: a Buser conecta pessoas viajantes com empresas de fretamento executivo \n",
    "(modelo de venda 'Buser Passagem' ou modelo fretamento) para vender viagens.  Temos também um segundo modelo de \n",
    "negócio onde revendemos passagens das empresas de rodoviária (modelo Revenda de Passagem), então atente para as \n",
    "diferentes regras quando for o caso.\n",
    "Por isso, sempre que a resposta tiver regras diferentes para esses dois modelos de negócios, explique as duas \n",
    "regras de forma clara, de preferência usando bullet points.\n",
    "\n",
    "Use este manifesto Buser para inspiração do papel da Buser na sociedade:\n",
    "'Acreditamos que a vida é melhor quando temos escolhas. \n",
    "No Brasil, a grande maioria das cidades são ligadas por apenas uma empresa de ônibus, e nossos aeroportos e \n",
    "ferroviárias são insuficientes. Com isso, somos obrigados a pagar caro pela falta de opção. Muitos brasileiros se \n",
    "arriscam no transporte clandestino, por não terem recursos para as opções tradicionais.\n",
    "A Buser é uma alternativa segura e moderna. Conectamos pessoas que querem viajar para o mesmo destino com empresas \n",
    "de fretamento executivo. Nossa tecnologia compartilhada e sustentável fomenta a mobilidade no Brasil, criando uma \n",
    "nova opção de transporte segura, de qualidade e a preços justos.\n",
    "Assim como já aconteceu no transporte privado por aplicativo nas cidades, é hora do transporte intermunicipal \n",
    "mudar para melhor. E para sempre.'\n",
    "\n",
    "Documents:\n",
    "=========\n",
    "{context}\n",
    "=========\n",
    "\n",
    "Você pode ser razoavelmente informal. Termine comentando que espera ter ajudado\n",
    "Se a pergunta do usuário é apenas um elogio ou cumprimento, responda de forma educada.\n",
    "\n",
    "Question: {question}\n",
    "Answer:\n",
    "\"\"\""
   ]
  },
  {
   "cell_type": "code",
   "execution_count": 63,
   "id": "346ba738",
   "metadata": {},
   "outputs": [],
   "source": [
    "import langchain\n",
    "from langchain import PromptTemplate\n",
    "from langchain.chains import RetrievalQA\n",
    "\n",
    "prompt_template = PromptTemplate(\n",
    "    template=prompt_template_str, input_variables=[\"context\", \"question\"]\n",
    ")"
   ]
  },
  {
   "cell_type": "markdown",
   "id": "322243b5",
   "metadata": {},
   "source": [
    "### Chains <a name=\"chains\"></a>\n",
    "\n",
    "O Lanchain trabalha com a ideia de componentes, que se conectam como uma \"corrente\" (por isso o termo _chain_). No nosso caso, ele vai conectar a chamada da pergunta do usuário a um componente de busca de documentos (nosso vectordb do chroma) e a um llm (GPT). Tudo será conectado em um objeto `chain` do Langchain."
   ]
  },
  {
   "cell_type": "code",
   "execution_count": 64,
   "id": "6d2a5c43",
   "metadata": {},
   "outputs": [],
   "source": [
    "from langchain.chat_models import ChatOpenAI\n",
    "from langchain.llms import OpenAI\n",
    "\n",
    "model_name = \"gpt-4\"\n",
    "temperature = 0\n",
    "max_tokens = 200\n",
    "\n",
    "llm = ChatOpenAI(\n",
    "    model_name=model_name,\n",
    "    temperature=temperature,\n",
    "    max_tokens=max_tokens,\n",
    ")"
   ]
  },
  {
   "cell_type": "code",
   "execution_count": 65,
   "id": "45eebf9d",
   "metadata": {},
   "outputs": [
    {
     "data": {
      "text/plain": [
       "langchain.chat_models.openai.ChatOpenAI"
      ]
     },
     "execution_count": 65,
     "metadata": {},
     "output_type": "execute_result"
    }
   ],
   "source": [
    "type(llm)"
   ]
  },
  {
   "cell_type": "code",
   "execution_count": 66,
   "id": "cca58006",
   "metadata": {},
   "outputs": [
    {
     "name": "stdout",
     "output_type": "stream",
     "text": [
      "Help on method as_retriever in module langchain.schema.vectorstore:\n",
      "\n",
      "as_retriever(**kwargs: 'Any') -> 'VectorStoreRetriever' method of langchain.vectorstores.chroma.Chroma instance\n",
      "    Return VectorStoreRetriever initialized from this VectorStore.\n",
      "    \n",
      "    Args:\n",
      "        search_type (Optional[str]): Defines the type of search that\n",
      "            the Retriever should perform.\n",
      "            Can be \"similarity\" (default), \"mmr\", or\n",
      "            \"similarity_score_threshold\".\n",
      "        search_kwargs (Optional[Dict]): Keyword arguments to pass to the\n",
      "            search function. Can include things like:\n",
      "                k: Amount of documents to return (Default: 4)\n",
      "                score_threshold: Minimum relevance threshold\n",
      "                    for similarity_score_threshold\n",
      "                fetch_k: Amount of documents to pass to MMR algorithm (Default: 20)\n",
      "                lambda_mult: Diversity of results returned by MMR;\n",
      "                    1 for minimum diversity and 0 for maximum. (Default: 0.5)\n",
      "                filter: Filter by document metadata\n",
      "    \n",
      "    Returns:\n",
      "        VectorStoreRetriever: Retriever class for VectorStore.\n",
      "    \n",
      "    Examples:\n",
      "    \n",
      "    .. code-block:: python\n",
      "    \n",
      "        # Retrieve more documents with higher diversity\n",
      "        # Useful if your dataset has many similar documents\n",
      "        docsearch.as_retriever(\n",
      "            search_type=\"mmr\",\n",
      "            search_kwargs={'k': 6, 'lambda_mult': 0.25}\n",
      "        )\n",
      "    \n",
      "        # Fetch more documents for the MMR algorithm to consider\n",
      "        # But only return the top 5\n",
      "        docsearch.as_retriever(\n",
      "            search_type=\"mmr\",\n",
      "            search_kwargs={'k': 5, 'fetch_k': 50}\n",
      "        )\n",
      "    \n",
      "        # Only retrieve documents that have a relevance score\n",
      "        # Above a certain threshold\n",
      "        docsearch.as_retriever(\n",
      "            search_type=\"similarity_score_threshold\",\n",
      "            search_kwargs={'score_threshold': 0.8}\n",
      "        )\n",
      "    \n",
      "        # Only get the single most similar document from the dataset\n",
      "        docsearch.as_retriever(search_kwargs={'k': 1})\n",
      "    \n",
      "        # Use a filter to only retrieve documents from a specific paper\n",
      "        docsearch.as_retriever(\n",
      "            search_kwargs={'filter': {'paper_title':'GPT-4 Technical Report'}}\n",
      "        )\n",
      "\n"
     ]
    }
   ],
   "source": [
    "help(vectordb.as_retriever)"
   ]
  },
  {
   "cell_type": "code",
   "execution_count": 67,
   "id": "67b579d3",
   "metadata": {},
   "outputs": [],
   "source": [
    "top_k = 4\n",
    "chain_type_kwargs = {\"prompt\": prompt_template}\n",
    "return_source_documents = True\n",
    "\n",
    "qa = RetrievalQA.from_chain_type(\n",
    "    llm=llm,\n",
    "    chain_type=\"stuff\",\n",
    "    retriever=vectordb.as_retriever(search_kwargs={\"k\": top_k}),\n",
    "    chain_type_kwargs=chain_type_kwargs,\n",
    "    return_source_documents=return_source_documents,\n",
    ")"
   ]
  },
  {
   "cell_type": "code",
   "execution_count": 68,
   "id": "31eb5400",
   "metadata": {},
   "outputs": [
    {
     "data": {
      "text/plain": [
       "langchain.chains.retrieval_qa.base.RetrievalQA"
      ]
     },
     "execution_count": 68,
     "metadata": {},
     "output_type": "execute_result"
    }
   ],
   "source": [
    "type(qa)"
   ]
  },
  {
   "cell_type": "markdown",
   "id": "f1b34215",
   "metadata": {},
   "source": [
    "### Asking GPT! <a name=\"ask-gpt\"></a>\n",
    "\n",
    "Finalmente podemos perguntar nossa dúvida ao GPT. Note que cada completion leva de 5s a 10s."
   ]
  },
  {
   "cell_type": "code",
   "execution_count": 69,
   "id": "f8ea7dcb",
   "metadata": {},
   "outputs": [],
   "source": [
    "prompt = \"Como posso cancelar minha viagem?\""
   ]
  },
  {
   "cell_type": "code",
   "execution_count": 70,
   "id": "1f574386",
   "metadata": {},
   "outputs": [],
   "source": [
    "result = qa({\"query\": prompt}) # pode levar uns 5s a 10s"
   ]
  },
  {
   "cell_type": "code",
   "execution_count": 71,
   "id": "8f1d402e",
   "metadata": {},
   "outputs": [
    {
     "name": "stdout",
     "output_type": "stream",
     "text": [
      "Customer: Como posso cancelar minha viagem?\n",
      "Agent: Para cancelar sua viagem, o processo varia dependendo do tipo de viagem que você reservou:\n",
      "\n",
      "- Viagem com parceiros Buser: as reservas podem ser canceladas de forma gratuita até 1 hora antes do embarque. Para cancelar, você deve:\n",
      "  1. Acessar a aba de viagens e selecionar a reserva que deseja cancelar;\n",
      "  2. No final da página, no campo “Ajuda”, clicar em “Cancelar minha reserva”;\n",
      "  3. Informar o motivo e fazer o cancelamento da reserva. \n",
      "\n",
      "  Após 1 hora antes do horário do embarque não é possível cancelar a reserva, mas você consegue solicitar um cupom para agendar uma nova viagem. Caso você não tenha embarcado, o cupom ficará disponível na aba de viagens após 30 minutos do início do embarque.\n",
      "\n",
      "- Viagens de revenda de\n"
     ]
    }
   ],
   "source": [
    "answer = result[\"result\"]\n",
    "print(f\"Customer: {prompt}\\nAgent: {answer}\")"
   ]
  },
  {
   "cell_type": "markdown",
   "id": "3689a4e4",
   "metadata": {},
   "source": [
    "Vamos ver os documentos usados por trás dos panos:"
   ]
  },
  {
   "cell_type": "code",
   "execution_count": 72,
   "id": "95f8a521",
   "metadata": {},
   "outputs": [],
   "source": [
    "source_texts = []\n",
    "sources = result.get(\"source_documents\")"
   ]
  },
  {
   "cell_type": "code",
   "execution_count": 73,
   "id": "25604448",
   "metadata": {},
   "outputs": [
    {
     "name": "stdout",
     "output_type": "stream",
     "text": [
      "Doc #1:\n",
      "\n",
      "Question: Reclamar ou solicitar reembolso\n",
      "Answer: Reembolso em caso de cancelamentoVocê pode solicitar o reembolso da sua viagem caso tenha cancelado a sua reserva dentro dos prazos estabelecidos.Em viagens com parceiros Buser, o cancelamento deve ser feito até 1h antes do embarque. Já em viagens de revenda de passagem, é necessário cancelar a reserva até 3h antes do embarque para que seja possível solicitar o reembolso.Depois que você concluir o cancelamento de acordo com o prazo do seu tipo de viagem, o valor será disponibilizado na sua Carteira Buser - você poderá utilizá-lo para fazer outra reserva ou, se preferir, poderá sacar esse dinheiro em até 7 dias.Caso opte pelo saque do dinheiro, siga o passo a passo dentro do app ou site:Clique em “Carteira” e depois em “Sacar”; Escolha uma das opções de devolução;Preencha as informações solicitadas.Saques acima de R$100: é necessário realizar uma confirmação de segurança com o envio de uma foto frente e verso do seu RG ou CNH, e uma foto sua segurando o documento, em que seja possível identificar o seu rosto. A confirmação de segurança leva até 2 dias úteis para ser finalizada.Reembolso em caso de problemas durante a viagemSe você teve algum problema durante a sua viagem e gostaria de conversar sobre a possibilidade de um reembolso, pedimos que entre em contato com o nosso time de experiência do cliente pelo chat, localizado no final da página da Central de Ajuda.\n",
      "--------------------------------------------------\n",
      "Doc #2:\n",
      "\n",
      "Question: Cancelamento grátis da minha viagem\n",
      "Answer: Viagem com parceiros Buser: as reservas podem ser canceladas de forma gratuita até 1 hora antes do embarque. Para cancelar, você deve:Acessar a aba de viagens e selecionar a reserva que deseja cancelar;No final da página, no campo “Ajuda”, clicar em “Cancelar minha reserva”;Informar o motivo e fazer o cancelamento da reserva. Após 1 hora antes do horário do embarque não é possível cancelar a reserva, mas você consegue solicitar um cupom para agendar uma nova viagem. Caso você não tenha embarcado, o cupom ficará disponível na aba de viagens após 30 minutos do início do embarque.Importante: Se você pagou a reserva no boleto, ao cancelar a reserva dentro do prazo, você receberá o estorno integral do valor pago em sua \"Carteira\" que ficará disponível para saque por 7 dias. Após esse período, esse valor se transforma em um cupom para uso em reservas na Buser.Viagens de revenda de passagem:  O cancelamento só poderá ser feito até 3 horas antes do embarque para receber o reembolso; após esse período, não será realizado o reembolso. Para cancelar, você deve:Acessar a aba de viagens e selecionar a reserva que deseja cancelar;No final da página, no campo “Ajuda”, clicar em “Cancelar minha reserva”;Informar o motivo e fazer o cancelamento da reserva.Caso você precise cancelar após as 3 horas que antecedem a viagem, é necessário verificar a possibilidade de cancelamento diretamente com a empresa responsável pela viagem. Você pode acessar o contato da empresa nos detalhes da sua reserva, em “Dados da viagem”. Importante: Se você pagou a reserva no boleto, ao cancelar a reserva dentro do prazo, você receberá o estorno integral do valor pago em sua \"Carteira\" que ficará disponível para saque por 30 dias. Após esse período, esse valor se transforma em um cupom para uso em reservas na Buser.\n",
      "--------------------------------------------------\n",
      "Doc #3:\n",
      "\n",
      "Question: Perdi minha viagem\n",
      "Answer: Perdeu a viagem? Não tem problema! Se a sua viagem for com alguma empresa parceira da Buser, você consegue remarcar diretamente pelo app ou site. Se a compra tiver sido feita na modalidade de revenda de passagem, é possível remarcar diretamente no guichê da empresa rodoviária.Viagens com empresas parceiras Buser: você consegue adquirir um cupom de 80% do valor pago na reserva para remarcação pelo app ou site até 30 dias contados a partir da data da viagem que você perdeu. É super fácil:Acesse a aba de viagens e clique na reserva que deseja remarcarClique no botão “Pedir cupom”. Depois é só seguir o processo indicado na tela para remarcaçãoImportante: A remarcação pode ser feita apenas uma vez e a ativação do cupom no mesmo valor da sua reserva fica disponível por 30 dias. Após esse prazo, não será possível remarcar a viagem.Viagens de revenda de passagem: a remarcação deve ser solicitada para a empresa responsável pela viagem, por telefone ou diretamente no guichê da rodoviária. Você pode acessar o contato da empresa nos detalhes da sua reserva, localizados em “Dados da viagem”. \n",
      "--------------------------------------------------\n",
      "Doc #4:\n",
      "\n",
      "Question: Transferir reserva para outra pessoa\n",
      "Answer: Sua reserva é pessoal e intransferível, por esse motivo não é possível fazer a transferência para outra pessoa. Nesses casos, a orientação é cancelar a sua reserva atual e fazer uma nova reserva no nome da pessoa para quem deseja transferir. O cancelamento é bem simples:Acesse a aba de viagens e selecione a reserva que deseja cancelar;No final da página, no campo “Ajuda”, clique em “Cancelar minha reserva”;Informe o motivo e faça o cancelamento da reserva.Importante: caso a sua reserva atual seja de alguma promoção ou tenha usado um cupom que não esteja mais válido na data da alteração, o valor da promoção ou do cupom não terá mais validade. \n",
      "--------------------------------------------------\n"
     ]
    }
   ],
   "source": [
    "for i, doc in enumerate(sources):\n",
    "    print(f\"Doc #{i+1}:\\n\")\n",
    "    print(doc.page_content)\n",
    "    print(\"-\" * 50)"
   ]
  },
  {
   "cell_type": "markdown",
   "id": "6103e1ba",
   "metadata": {},
   "source": [
    "Encapsulando nossa estratégia toda:"
   ]
  },
  {
   "cell_type": "code",
   "execution_count": 74,
   "id": "35b6df3f",
   "metadata": {},
   "outputs": [],
   "source": [
    "def ask(\n",
    "    prompt: str,\n",
    "    model_name: str = \"gpt-4\",\n",
    "    prompt_template: str = prompt_template_str,\n",
    "    vectorstore: langchain.vectorstores.chroma.Chroma = vectordb,\n",
    "    max_tokens: int = 350,\n",
    "    top_k: int = 4,\n",
    "    temperature: int = 0,\n",
    "    return_source_documents: bool = False,\n",
    ") -> str:\n",
    "    \"\"\"\n",
    "    Generates an answer to a user's question using an OpenAI model and a vector store.\n",
    "\n",
    "    This function uses a language model and a vectorstore to generate a response to the user's question.\n",
    "    The Chroma vector store is used to retrieve candidate chunks and the specified OpenAI model generates the response.\n",
    "\n",
    "    Args:\n",
    "        prompt (str): The question asked by the user.\n",
    "        model_name (str): The unique name of the OpenAI model to be used.\n",
    "        prompt_template (str, optional): The raw string template used for the prompt in the OpenAI model.\n",
    "        vectorstore (langchain.vectorstores.chroma.Chroma, optional): The vector store used to retrieve candidate chunks.\n",
    "        max_tokens (int, optional): The maximum number of tokens that the OpenAI model can return. Defaults to 150.\n",
    "        top_k (int, optional): The number of candidate chunks to be considered for the answer. Defaults to 4.\n",
    "        temperature (int, optional): The softmax temperature for the OpenAI model's output.\n",
    "            Higher values yield more random outputs, and lower values yield more deterministic outputs. Defaults to 0.\n",
    "        return_source_documents (bool, optional): Whether to return the source documents along with the answer. Defaults to False.\n",
    "\n",
    "    Returns:\n",
    "        Tuple[str, Optional[List[str]]]: The answer generated by the OpenAI model and, if return_source_documents is True, a list of source documents.\n",
    "    \"\"\"\n",
    "    prompt_template = PromptTemplate(\n",
    "        template=prompt_template, input_variables=[\"context\", \"question\"]\n",
    "    )\n",
    "    print(f\"The top {top_k} chunks are considered to answer the user's query.\")\n",
    "    allowed_models = [\"text-davinci-003\", \"gpt-3.5-turbo\", \"gpt-4\"]\n",
    "    if model_name not in allowed_models:\n",
    "        raise ValueError(f\"model_name={model_name} not allowed. Allowed models: \", allowed_models)\n",
    "    if model_name in (\"text-davinci-003\"):  # instructGPT\n",
    "        llm = OpenAI(\n",
    "            model_name=model_name,\n",
    "            temperature=temperature,\n",
    "            max_tokens=max_tokens,\n",
    "        )\n",
    "    elif model_name in (\"gpt-3.5-turbo\", \"gpt-4\"):\n",
    "        llm = ChatOpenAI(\n",
    "            model_name=model_name,\n",
    "            temperature=temperature,\n",
    "            max_tokens=max_tokens,\n",
    "        ) \n",
    "    chain_type_kwargs = {\"prompt\": prompt_template}\n",
    "    qa = RetrievalQA.from_chain_type(\n",
    "        llm=llm,\n",
    "        chain_type=\"stuff\",\n",
    "        retriever=vectorstore.as_retriever(search_kwargs={\"k\": top_k}),\n",
    "        chain_type_kwargs=chain_type_kwargs,\n",
    "        return_source_documents=return_source_documents,\n",
    "    )\n",
    "    print(\"Asking llm...\\n\")\n",
    "    result = qa({\"query\": prompt})\n",
    "    answer = result[\"result\"]\n",
    "    print(f\"Customer: {prompt}\\nAgent: {answer}\")\n",
    "    if return_source_documents:\n",
    "        print(\"\\nSource Docs:\")\n",
    "        sources = result.get(\"source_documents\")\n",
    "        for i, doc in enumerate(sources):\n",
    "            print(f\"Doc #{i+1}:\\n\")\n",
    "            print(doc.page_content)\n",
    "            print(\"-\" * 50)"
   ]
  },
  {
   "cell_type": "markdown",
   "id": "e3a41e68",
   "metadata": {},
   "source": [
    "### Cancelamento de Viagem <a name=\"cancelations\"></a>"
   ]
  },
  {
   "cell_type": "code",
   "execution_count": 75,
   "id": "c1bc27f2",
   "metadata": {},
   "outputs": [
    {
     "name": "stdout",
     "output_type": "stream",
     "text": [
      "The top 4 chunks are considered to answer the user's query.\n",
      "Asking llm...\n",
      "\n",
      "Customer: Como cancelo uma viagem?\n",
      "Agent: Para cancelar uma viagem, o processo varia dependendo do tipo de viagem que você reservou:\n",
      "\n",
      "- Viagem com parceiros Buser: as reservas podem ser canceladas de forma gratuita até 1 hora antes do embarque. Para cancelar, você deve:\n",
      "  1. Acessar a aba de viagens e selecionar a reserva que deseja cancelar;\n",
      "  2. No final da página, no campo “Ajuda”, clicar em “Cancelar minha reserva”;\n",
      "  3. Informar o motivo e fazer o cancelamento da reserva. \n",
      "\n",
      "Após 1 hora antes do horário do embarque não é possível cancelar a reserva, mas você consegue solicitar um cupom para agendar uma nova viagem. Caso você não tenha embarcado, o cupom ficará disponível na aba de viagens após 30 minutos do início do embarque.\n",
      "\n",
      "- Viagens de revenda de passagem: O cancelamento só poderá ser feito até 3 horas antes do embarque para receber o reembolso; após esse período, não será realizado o reembolso. Para cancelar, você deve:\n",
      "  1. Acessar a aba de viagens e selecionar a reserva que deseja cancelar;\n",
      "  2. No final da página, no campo “Ajuda”, clicar em “Cancelar minha reserva”;\n",
      "  3. Informar o motivo e fazer o cancelamento da reserva.\n",
      "\n",
      "Caso você precise cancelar após as 3 horas que antecedem a viagem, é necessário verificar a possibilidade de cancelamento diretamente com a empresa responsável pela viagem. Você\n",
      "\n",
      "Source Docs:\n",
      "Doc #1:\n",
      "\n",
      "Question: Reclamar ou solicitar reembolso\n",
      "Answer: Reembolso em caso de cancelamentoVocê pode solicitar o reembolso da sua viagem caso tenha cancelado a sua reserva dentro dos prazos estabelecidos.Em viagens com parceiros Buser, o cancelamento deve ser feito até 1h antes do embarque. Já em viagens de revenda de passagem, é necessário cancelar a reserva até 3h antes do embarque para que seja possível solicitar o reembolso.Depois que você concluir o cancelamento de acordo com o prazo do seu tipo de viagem, o valor será disponibilizado na sua Carteira Buser - você poderá utilizá-lo para fazer outra reserva ou, se preferir, poderá sacar esse dinheiro em até 7 dias.Caso opte pelo saque do dinheiro, siga o passo a passo dentro do app ou site:Clique em “Carteira” e depois em “Sacar”; Escolha uma das opções de devolução;Preencha as informações solicitadas.Saques acima de R$100: é necessário realizar uma confirmação de segurança com o envio de uma foto frente e verso do seu RG ou CNH, e uma foto sua segurando o documento, em que seja possível identificar o seu rosto. A confirmação de segurança leva até 2 dias úteis para ser finalizada.Reembolso em caso de problemas durante a viagemSe você teve algum problema durante a sua viagem e gostaria de conversar sobre a possibilidade de um reembolso, pedimos que entre em contato com o nosso time de experiência do cliente pelo chat, localizado no final da página da Central de Ajuda.\n",
      "--------------------------------------------------\n",
      "Doc #2:\n",
      "\n",
      "Question: Cancelamento grátis da minha viagem\n",
      "Answer: Viagem com parceiros Buser: as reservas podem ser canceladas de forma gratuita até 1 hora antes do embarque. Para cancelar, você deve:Acessar a aba de viagens e selecionar a reserva que deseja cancelar;No final da página, no campo “Ajuda”, clicar em “Cancelar minha reserva”;Informar o motivo e fazer o cancelamento da reserva. Após 1 hora antes do horário do embarque não é possível cancelar a reserva, mas você consegue solicitar um cupom para agendar uma nova viagem. Caso você não tenha embarcado, o cupom ficará disponível na aba de viagens após 30 minutos do início do embarque.Importante: Se você pagou a reserva no boleto, ao cancelar a reserva dentro do prazo, você receberá o estorno integral do valor pago em sua \"Carteira\" que ficará disponível para saque por 7 dias. Após esse período, esse valor se transforma em um cupom para uso em reservas na Buser.Viagens de revenda de passagem:  O cancelamento só poderá ser feito até 3 horas antes do embarque para receber o reembolso; após esse período, não será realizado o reembolso. Para cancelar, você deve:Acessar a aba de viagens e selecionar a reserva que deseja cancelar;No final da página, no campo “Ajuda”, clicar em “Cancelar minha reserva”;Informar o motivo e fazer o cancelamento da reserva.Caso você precise cancelar após as 3 horas que antecedem a viagem, é necessário verificar a possibilidade de cancelamento diretamente com a empresa responsável pela viagem. Você pode acessar o contato da empresa nos detalhes da sua reserva, em “Dados da viagem”. Importante: Se você pagou a reserva no boleto, ao cancelar a reserva dentro do prazo, você receberá o estorno integral do valor pago em sua \"Carteira\" que ficará disponível para saque por 30 dias. Após esse período, esse valor se transforma em um cupom para uso em reservas na Buser.\n",
      "--------------------------------------------------\n",
      "Doc #3:\n",
      "\n",
      "Question: Perdi minha viagem\n",
      "Answer: Perdeu a viagem? Não tem problema! Se a sua viagem for com alguma empresa parceira da Buser, você consegue remarcar diretamente pelo app ou site. Se a compra tiver sido feita na modalidade de revenda de passagem, é possível remarcar diretamente no guichê da empresa rodoviária.Viagens com empresas parceiras Buser: você consegue adquirir um cupom de 80% do valor pago na reserva para remarcação pelo app ou site até 30 dias contados a partir da data da viagem que você perdeu. É super fácil:Acesse a aba de viagens e clique na reserva que deseja remarcarClique no botão “Pedir cupom”. Depois é só seguir o processo indicado na tela para remarcaçãoImportante: A remarcação pode ser feita apenas uma vez e a ativação do cupom no mesmo valor da sua reserva fica disponível por 30 dias. Após esse prazo, não será possível remarcar a viagem.Viagens de revenda de passagem: a remarcação deve ser solicitada para a empresa responsável pela viagem, por telefone ou diretamente no guichê da rodoviária. Você pode acessar o contato da empresa nos detalhes da sua reserva, localizados em “Dados da viagem”. \n",
      "--------------------------------------------------\n",
      "Doc #4:\n",
      "\n",
      "Question: Transferir reserva para outra pessoa\n",
      "Answer: Sua reserva é pessoal e intransferível, por esse motivo não é possível fazer a transferência para outra pessoa. Nesses casos, a orientação é cancelar a sua reserva atual e fazer uma nova reserva no nome da pessoa para quem deseja transferir. O cancelamento é bem simples:Acesse a aba de viagens e selecione a reserva que deseja cancelar;No final da página, no campo “Ajuda”, clique em “Cancelar minha reserva”;Informe o motivo e faça o cancelamento da reserva.Importante: caso a sua reserva atual seja de alguma promoção ou tenha usado um cupom que não esteja mais válido na data da alteração, o valor da promoção ou do cupom não terá mais validade. \n",
      "--------------------------------------------------\n"
     ]
    }
   ],
   "source": [
    "ask(prompt=\"Como cancelo uma viagem?\", return_source_documents=True)"
   ]
  },
  {
   "cell_type": "code",
   "execution_count": 76,
   "id": "2b4bd22d",
   "metadata": {},
   "outputs": [
    {
     "name": "stdout",
     "output_type": "stream",
     "text": [
      "The top 4 chunks are considered to answer the user's query.\n",
      "Asking llm...\n",
      "\n",
      "Customer: Como cancelo uma viagem?\n",
      "Agent: Para cancelar uma viagem, siga os passos abaixo:\n",
      "\n",
      "1. Acesse a aba de viagens no app ou site da Buser.\n",
      "2. Selecione a reserva que deseja cancelar.\n",
      "3. No final da página, no campo \"Ajuda\", clique em \"Cancelar minha reserva\".\n",
      "4. Informe o motivo do cancelamento e confirme a solicitação.\n",
      "\n",
      "Lembrando que o prazo para cancelamento varia de acordo com o tipo de viagem:\n",
      "\n",
      "- Viagens com parceiros Buser: é possível cancelar gratuitamente até 1 hora antes do embarque.\n",
      "- Viagens de revenda de passagem: o cancelamento deve ser feito até 3 horas antes do embarque para receber o reembolso.\n",
      "\n",
      "Após o cancelamento, o valor pago será disponibilizado na sua Carteira Buser, onde você poderá utilizá-lo para fazer outra reserva ou solicitar o saque.\n",
      "\n",
      "Espero ter ajudado!\n"
     ]
    }
   ],
   "source": [
    "ask(prompt=\"Como cancelo uma viagem?\", model_name=\"gpt-3.5-turbo\")"
   ]
  },
  {
   "cell_type": "code",
   "execution_count": 77,
   "id": "54d3bc7a",
   "metadata": {},
   "outputs": [
    {
     "name": "stdout",
     "output_type": "stream",
     "text": [
      "The top 4 chunks are considered to answer the user's query.\n",
      "Asking llm...\n",
      "\n",
      "Customer: Como cancelo uma viagem?\n",
      "Agent: Você pode cancelar sua viagem de forma gratuita até 1 hora antes do embarque, caso seja uma viagem com parceiros Buser. Para cancelar, você deve:\n",
      "\n",
      "- Acessar a aba de viagens e selecionar a reserva que deseja cancelar;\n",
      "- No final da página, no campo “Ajuda”, clicar em “Cancelar minha reserva”;\n",
      "- Informar o motivo e fazer o cancelamento da reserva.\n",
      "\n",
      "Já para viagens de revenda de passagem, o cancelamento só poderá ser feito até 3 horas antes do embarque para receber o reembolso. Para cancelar, você deve:\n",
      "\n",
      "- Acessar a aba de viagens e selecionar a reserva que deseja cancelar;\n",
      "- No final da página, no campo “Ajuda”, clicar em “Cancelar minha reserva”;\n",
      "- Informar o motivo e fazer o cancelamento da reserva.\n",
      "\n",
      "Espero ter ajudado!\n"
     ]
    }
   ],
   "source": [
    "ask(prompt=\"Como cancelo uma viagem?\", model_name=\"text-davinci-003\")"
   ]
  },
  {
   "cell_type": "markdown",
   "id": "2f1c1d67",
   "metadata": {},
   "source": [
    "### Emergências  <a name=\"emergency\"></a>"
   ]
  },
  {
   "cell_type": "code",
   "execution_count": 78,
   "id": "13979fb1",
   "metadata": {},
   "outputs": [
    {
     "name": "stdout",
     "output_type": "stream",
     "text": [
      "The top 4 chunks are considered to answer the user's query.\n",
      "Asking llm...\n",
      "\n",
      "Customer: Meu ônibus teve uma falha mecânica aqui na estrada, e agora?\n",
      "Agent: Sinto muito por essa situação. Se durante a viagem você notou algum problema no ônibus, você pode reportar a situação ao nosso time de experiência do cliente pelo chat ou e-mail. Quando possível, pedimos que envie junto com a mensagem uma foto ou vídeo do problema encontrado. Dessa forma, podemos identificar com detalhes o ocorrido e tomar as medidas necessárias para esclarecer a situação e te ajudar no que for preciso. Lembre-se, estamos aqui para te ajudar! __EMERGENCY__\n"
     ]
    }
   ],
   "source": [
    "ask(prompt=\"Meu ônibus teve uma falha mecânica aqui na estrada, e agora?\")"
   ]
  },
  {
   "cell_type": "code",
   "execution_count": 79,
   "id": "755fb522",
   "metadata": {},
   "outputs": [
    {
     "name": "stdout",
     "output_type": "stream",
     "text": [
      "The top 4 chunks are considered to answer the user's query.\n",
      "Asking llm...\n",
      "\n",
      "Customer: Meu ônibus teve uma falha mecânica aqui na estrada, e agora?\n",
      "Agent: Se o seu ônibus teve uma falha mecânica na estrada, você pode reportar a situação ao nosso time de experiência do cliente pelo chat ou e-mail. Pedimos que envie junto com a mensagem uma foto ou vídeo do problema encontrado, para que possamos identificar com detalhes o ocorrido e tomar as medidas necessárias para esclarecer a situação e te ajudar no que for preciso. Caso seja necessário, providenciaremos um ônibus substituto para que você possa continuar sua viagem. Lamentamos pelo inconveniente e estamos à disposição para ajudar.\n",
      "\n",
      "Espero ter ajudado!\n"
     ]
    }
   ],
   "source": [
    "ask(prompt=\"Meu ônibus teve uma falha mecânica aqui na estrada, e agora?\", model_name=\"gpt-3.5-turbo\")"
   ]
  },
  {
   "cell_type": "markdown",
   "id": "a2a49be4",
   "metadata": {},
   "source": [
    "### Viajando com crianças <a name=\"child\"></a>"
   ]
  },
  {
   "cell_type": "code",
   "execution_count": 80,
   "id": "0f157420",
   "metadata": {},
   "outputs": [
    {
     "name": "stdout",
     "output_type": "stream",
     "text": [
      "The top 4 chunks are considered to answer the user's query.\n",
      "Asking llm...\n",
      "\n",
      "Customer: Posso viajar com criança de colo?\n",
      "Agent: Crianças devem viajar em assento individual, utilizando o cinto de segurança - não é permitido viajar no colo de pais ou responsáveis. Além disso, para viagens com bebês de até 1 ano e 5 meses, é obrigatório utilizar uma cadeirinha bebê conforto. Espero ter ajudado!\n"
     ]
    }
   ],
   "source": [
    "ask(prompt=\"Posso viajar com criança de colo?\")"
   ]
  },
  {
   "cell_type": "markdown",
   "id": "7c0622d8",
   "metadata": {},
   "source": [
    "### Exemplos negativos <a name=\"negatives\"></a>"
   ]
  },
  {
   "cell_type": "code",
   "execution_count": 81,
   "id": "768821c9",
   "metadata": {},
   "outputs": [
    {
     "name": "stdout",
     "output_type": "stream",
     "text": [
      "The top 4 chunks are considered to answer the user's query.\n",
      "Asking llm...\n",
      "\n",
      "Customer: Quem ganhou as eleições no Brasil em 2018?\n",
      "Agent: Desculpe, mas não tenho essa informação. Como assistente virtual da Buser, posso ajudar com perguntas relacionadas a viagens com a Buser. Se você tiver alguma dúvida sobre isso, ficarei feliz em ajudar. __ANSWER_NOT_FOUND__\n"
     ]
    }
   ],
   "source": [
    "ask(prompt=\"Quem ganhou as eleições no Brasil em 2018?\")"
   ]
  },
  {
   "cell_type": "code",
   "execution_count": 82,
   "id": "abf21a01",
   "metadata": {},
   "outputs": [
    {
     "name": "stdout",
     "output_type": "stream",
     "text": [
      "The top 4 chunks are considered to answer the user's query.\n",
      "Asking llm...\n",
      "\n",
      "Customer: Me indique um restaurante me Caxias do Sul com comida regional.\n",
      "Agent: Desculpe, mas não tenho informações sobre restaurantes em Caxias do Sul com comida regional. Sugiro que você reformule sua consulta com mais detalhes ou entre em contato com o atendimento humano. __ANSWER_NOT_FOUND__\n"
     ]
    }
   ],
   "source": [
    "ask(prompt=\"Me indique um restaurante me Caxias do Sul com comida regional.\")"
   ]
  },
  {
   "cell_type": "code",
   "execution_count": null,
   "id": "057b436b",
   "metadata": {},
   "outputs": [],
   "source": []
  },
  {
   "cell_type": "markdown",
   "id": "bc239f44",
   "metadata": {},
   "source": [
    "## Referências  <a name=\"refs\"></a>\n",
    "\n",
    "### OpenAI\n",
    "- [Question Answering using Embeddings](https://github.com/openai/openai-cookbook/blob/main/examples/Question_answering_using_embeddings.ipynb), repositório da OpenAI Cookbook.\n",
    "- [Doc da OpenAI](https://platform.openai.com/docs/guides/fine-tuning/when-to-use-fine-tuning) explicando sobre fine-tuning e quando usá-lo.\n",
    "- [Embeddings da OpenAI](https://platform.openai.com/docs/guides/embeddings/what-are-embeddings).\n",
    "- [Limitações e Bias](https://platform.openai.com/docs/guides/embeddings/limitations-risks) nos Embeddings da OpenAI.\n",
    "\n",
    "### Langchain\n",
    "- [Introdução ao Langchain](https://python.langchain.com/docs/get_started/introduction) (documentação oficial).\n",
    "- [Retrieval-augmented generation (RAG)](https://python.langchain.com/docs/use_cases/question_answering/) (Langchain)."
   ]
  },
  {
   "cell_type": "code",
   "execution_count": null,
   "id": "49ea52ac",
   "metadata": {},
   "outputs": [],
   "source": []
  }
 ],
 "metadata": {
  "kernelspec": {
   "display_name": "pybr23",
   "language": "python",
   "name": "tutorial-pybr23"
  },
  "language_info": {
   "codemirror_mode": {
    "name": "ipython",
    "version": 3
   },
   "file_extension": ".py",
   "mimetype": "text/x-python",
   "name": "python",
   "nbconvert_exporter": "python",
   "pygments_lexer": "ipython3",
   "version": "3.10.12"
  }
 },
 "nbformat": 4,
 "nbformat_minor": 5
}
